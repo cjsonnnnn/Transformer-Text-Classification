{
  "nbformat": 4,
  "nbformat_minor": 0,
  "metadata": {
    "colab": {
      "provenance": [],
      "gpuType": "T4",
      "collapsed_sections": [
        "8edd-BeWIR9d",
        "fdC5J2V-KD5o",
        "GVwJnWPlKRyX",
        "iEuBHPVYLXDQ",
        "1fuxZNgmLbVn"
      ]
    },
    "kernelspec": {
      "name": "python3",
      "display_name": "Python 3"
    },
    "language_info": {
      "name": "python"
    },
    "gpuClass": "standard",
    "widgets": {
      "application/vnd.jupyter.widget-state+json": {
        "a7b0329d20ac45ffaa760ee7fdb22567": {
          "model_module": "@jupyter-widgets/controls",
          "model_name": "HBoxModel",
          "model_module_version": "1.5.0",
          "state": {
            "_dom_classes": [],
            "_model_module": "@jupyter-widgets/controls",
            "_model_module_version": "1.5.0",
            "_model_name": "HBoxModel",
            "_view_count": null,
            "_view_module": "@jupyter-widgets/controls",
            "_view_module_version": "1.5.0",
            "_view_name": "HBoxView",
            "box_style": "",
            "children": [
              "IPY_MODEL_5c3f1caeb86041c1a48a8112430f9f91",
              "IPY_MODEL_f07e82a51b3448219fb82833fd78ffac",
              "IPY_MODEL_f58ccbc456a646068a95e201564e4381"
            ],
            "layout": "IPY_MODEL_3717329eeffd4b8d846834824bbe7c60"
          }
        },
        "5c3f1caeb86041c1a48a8112430f9f91": {
          "model_module": "@jupyter-widgets/controls",
          "model_name": "HTMLModel",
          "model_module_version": "1.5.0",
          "state": {
            "_dom_classes": [],
            "_model_module": "@jupyter-widgets/controls",
            "_model_module_version": "1.5.0",
            "_model_name": "HTMLModel",
            "_view_count": null,
            "_view_module": "@jupyter-widgets/controls",
            "_view_module_version": "1.5.0",
            "_view_name": "HTMLView",
            "description": "",
            "description_tooltip": null,
            "layout": "IPY_MODEL_114e137fd75e4fd580f5e2dfa49971e3",
            "placeholder": "​",
            "style": "IPY_MODEL_612de2fc53f941a2aeedcf41b5f06e4e",
            "value": "Downloading (…)okenizer_config.json: 100%"
          }
        },
        "f07e82a51b3448219fb82833fd78ffac": {
          "model_module": "@jupyter-widgets/controls",
          "model_name": "FloatProgressModel",
          "model_module_version": "1.5.0",
          "state": {
            "_dom_classes": [],
            "_model_module": "@jupyter-widgets/controls",
            "_model_module_version": "1.5.0",
            "_model_name": "FloatProgressModel",
            "_view_count": null,
            "_view_module": "@jupyter-widgets/controls",
            "_view_module_version": "1.5.0",
            "_view_name": "ProgressView",
            "bar_style": "success",
            "description": "",
            "description_tooltip": null,
            "layout": "IPY_MODEL_bf221784178a4be79c0436c4043e2c99",
            "max": 28,
            "min": 0,
            "orientation": "horizontal",
            "style": "IPY_MODEL_41febf19b6624c1eaf04498fbf85b222",
            "value": 28
          }
        },
        "f58ccbc456a646068a95e201564e4381": {
          "model_module": "@jupyter-widgets/controls",
          "model_name": "HTMLModel",
          "model_module_version": "1.5.0",
          "state": {
            "_dom_classes": [],
            "_model_module": "@jupyter-widgets/controls",
            "_model_module_version": "1.5.0",
            "_model_name": "HTMLModel",
            "_view_count": null,
            "_view_module": "@jupyter-widgets/controls",
            "_view_module_version": "1.5.0",
            "_view_name": "HTMLView",
            "description": "",
            "description_tooltip": null,
            "layout": "IPY_MODEL_88f05ee7f6bb405d8e6eaca104695418",
            "placeholder": "​",
            "style": "IPY_MODEL_0ab4b6e79dbf4fe58c19bd7a217609fb",
            "value": " 28.0/28.0 [00:00&lt;00:00, 1.04kB/s]"
          }
        },
        "3717329eeffd4b8d846834824bbe7c60": {
          "model_module": "@jupyter-widgets/base",
          "model_name": "LayoutModel",
          "model_module_version": "1.2.0",
          "state": {
            "_model_module": "@jupyter-widgets/base",
            "_model_module_version": "1.2.0",
            "_model_name": "LayoutModel",
            "_view_count": null,
            "_view_module": "@jupyter-widgets/base",
            "_view_module_version": "1.2.0",
            "_view_name": "LayoutView",
            "align_content": null,
            "align_items": null,
            "align_self": null,
            "border": null,
            "bottom": null,
            "display": null,
            "flex": null,
            "flex_flow": null,
            "grid_area": null,
            "grid_auto_columns": null,
            "grid_auto_flow": null,
            "grid_auto_rows": null,
            "grid_column": null,
            "grid_gap": null,
            "grid_row": null,
            "grid_template_areas": null,
            "grid_template_columns": null,
            "grid_template_rows": null,
            "height": null,
            "justify_content": null,
            "justify_items": null,
            "left": null,
            "margin": null,
            "max_height": null,
            "max_width": null,
            "min_height": null,
            "min_width": null,
            "object_fit": null,
            "object_position": null,
            "order": null,
            "overflow": null,
            "overflow_x": null,
            "overflow_y": null,
            "padding": null,
            "right": null,
            "top": null,
            "visibility": null,
            "width": null
          }
        },
        "114e137fd75e4fd580f5e2dfa49971e3": {
          "model_module": "@jupyter-widgets/base",
          "model_name": "LayoutModel",
          "model_module_version": "1.2.0",
          "state": {
            "_model_module": "@jupyter-widgets/base",
            "_model_module_version": "1.2.0",
            "_model_name": "LayoutModel",
            "_view_count": null,
            "_view_module": "@jupyter-widgets/base",
            "_view_module_version": "1.2.0",
            "_view_name": "LayoutView",
            "align_content": null,
            "align_items": null,
            "align_self": null,
            "border": null,
            "bottom": null,
            "display": null,
            "flex": null,
            "flex_flow": null,
            "grid_area": null,
            "grid_auto_columns": null,
            "grid_auto_flow": null,
            "grid_auto_rows": null,
            "grid_column": null,
            "grid_gap": null,
            "grid_row": null,
            "grid_template_areas": null,
            "grid_template_columns": null,
            "grid_template_rows": null,
            "height": null,
            "justify_content": null,
            "justify_items": null,
            "left": null,
            "margin": null,
            "max_height": null,
            "max_width": null,
            "min_height": null,
            "min_width": null,
            "object_fit": null,
            "object_position": null,
            "order": null,
            "overflow": null,
            "overflow_x": null,
            "overflow_y": null,
            "padding": null,
            "right": null,
            "top": null,
            "visibility": null,
            "width": null
          }
        },
        "612de2fc53f941a2aeedcf41b5f06e4e": {
          "model_module": "@jupyter-widgets/controls",
          "model_name": "DescriptionStyleModel",
          "model_module_version": "1.5.0",
          "state": {
            "_model_module": "@jupyter-widgets/controls",
            "_model_module_version": "1.5.0",
            "_model_name": "DescriptionStyleModel",
            "_view_count": null,
            "_view_module": "@jupyter-widgets/base",
            "_view_module_version": "1.2.0",
            "_view_name": "StyleView",
            "description_width": ""
          }
        },
        "bf221784178a4be79c0436c4043e2c99": {
          "model_module": "@jupyter-widgets/base",
          "model_name": "LayoutModel",
          "model_module_version": "1.2.0",
          "state": {
            "_model_module": "@jupyter-widgets/base",
            "_model_module_version": "1.2.0",
            "_model_name": "LayoutModel",
            "_view_count": null,
            "_view_module": "@jupyter-widgets/base",
            "_view_module_version": "1.2.0",
            "_view_name": "LayoutView",
            "align_content": null,
            "align_items": null,
            "align_self": null,
            "border": null,
            "bottom": null,
            "display": null,
            "flex": null,
            "flex_flow": null,
            "grid_area": null,
            "grid_auto_columns": null,
            "grid_auto_flow": null,
            "grid_auto_rows": null,
            "grid_column": null,
            "grid_gap": null,
            "grid_row": null,
            "grid_template_areas": null,
            "grid_template_columns": null,
            "grid_template_rows": null,
            "height": null,
            "justify_content": null,
            "justify_items": null,
            "left": null,
            "margin": null,
            "max_height": null,
            "max_width": null,
            "min_height": null,
            "min_width": null,
            "object_fit": null,
            "object_position": null,
            "order": null,
            "overflow": null,
            "overflow_x": null,
            "overflow_y": null,
            "padding": null,
            "right": null,
            "top": null,
            "visibility": null,
            "width": null
          }
        },
        "41febf19b6624c1eaf04498fbf85b222": {
          "model_module": "@jupyter-widgets/controls",
          "model_name": "ProgressStyleModel",
          "model_module_version": "1.5.0",
          "state": {
            "_model_module": "@jupyter-widgets/controls",
            "_model_module_version": "1.5.0",
            "_model_name": "ProgressStyleModel",
            "_view_count": null,
            "_view_module": "@jupyter-widgets/base",
            "_view_module_version": "1.2.0",
            "_view_name": "StyleView",
            "bar_color": null,
            "description_width": ""
          }
        },
        "88f05ee7f6bb405d8e6eaca104695418": {
          "model_module": "@jupyter-widgets/base",
          "model_name": "LayoutModel",
          "model_module_version": "1.2.0",
          "state": {
            "_model_module": "@jupyter-widgets/base",
            "_model_module_version": "1.2.0",
            "_model_name": "LayoutModel",
            "_view_count": null,
            "_view_module": "@jupyter-widgets/base",
            "_view_module_version": "1.2.0",
            "_view_name": "LayoutView",
            "align_content": null,
            "align_items": null,
            "align_self": null,
            "border": null,
            "bottom": null,
            "display": null,
            "flex": null,
            "flex_flow": null,
            "grid_area": null,
            "grid_auto_columns": null,
            "grid_auto_flow": null,
            "grid_auto_rows": null,
            "grid_column": null,
            "grid_gap": null,
            "grid_row": null,
            "grid_template_areas": null,
            "grid_template_columns": null,
            "grid_template_rows": null,
            "height": null,
            "justify_content": null,
            "justify_items": null,
            "left": null,
            "margin": null,
            "max_height": null,
            "max_width": null,
            "min_height": null,
            "min_width": null,
            "object_fit": null,
            "object_position": null,
            "order": null,
            "overflow": null,
            "overflow_x": null,
            "overflow_y": null,
            "padding": null,
            "right": null,
            "top": null,
            "visibility": null,
            "width": null
          }
        },
        "0ab4b6e79dbf4fe58c19bd7a217609fb": {
          "model_module": "@jupyter-widgets/controls",
          "model_name": "DescriptionStyleModel",
          "model_module_version": "1.5.0",
          "state": {
            "_model_module": "@jupyter-widgets/controls",
            "_model_module_version": "1.5.0",
            "_model_name": "DescriptionStyleModel",
            "_view_count": null,
            "_view_module": "@jupyter-widgets/base",
            "_view_module_version": "1.2.0",
            "_view_name": "StyleView",
            "description_width": ""
          }
        },
        "88b6785befd541fa8a34520e04e74a0c": {
          "model_module": "@jupyter-widgets/controls",
          "model_name": "HBoxModel",
          "model_module_version": "1.5.0",
          "state": {
            "_dom_classes": [],
            "_model_module": "@jupyter-widgets/controls",
            "_model_module_version": "1.5.0",
            "_model_name": "HBoxModel",
            "_view_count": null,
            "_view_module": "@jupyter-widgets/controls",
            "_view_module_version": "1.5.0",
            "_view_name": "HBoxView",
            "box_style": "",
            "children": [
              "IPY_MODEL_9b0da59c1988483da48a3983a00c04ac",
              "IPY_MODEL_588a6e57038e42e0b8bcea51eecd6145",
              "IPY_MODEL_c591f829e60f4d0ba1e0121afe95f0a2"
            ],
            "layout": "IPY_MODEL_6a30fa9eabe94d32a08f155a9200ff8a"
          }
        },
        "9b0da59c1988483da48a3983a00c04ac": {
          "model_module": "@jupyter-widgets/controls",
          "model_name": "HTMLModel",
          "model_module_version": "1.5.0",
          "state": {
            "_dom_classes": [],
            "_model_module": "@jupyter-widgets/controls",
            "_model_module_version": "1.5.0",
            "_model_name": "HTMLModel",
            "_view_count": null,
            "_view_module": "@jupyter-widgets/controls",
            "_view_module_version": "1.5.0",
            "_view_name": "HTMLView",
            "description": "",
            "description_tooltip": null,
            "layout": "IPY_MODEL_220141ee2ef5482d8cbface95ce951f7",
            "placeholder": "​",
            "style": "IPY_MODEL_ecaa9e34ed0a4ec6a3e4a997fbb1e353",
            "value": "Downloading (…)solve/main/vocab.txt: 100%"
          }
        },
        "588a6e57038e42e0b8bcea51eecd6145": {
          "model_module": "@jupyter-widgets/controls",
          "model_name": "FloatProgressModel",
          "model_module_version": "1.5.0",
          "state": {
            "_dom_classes": [],
            "_model_module": "@jupyter-widgets/controls",
            "_model_module_version": "1.5.0",
            "_model_name": "FloatProgressModel",
            "_view_count": null,
            "_view_module": "@jupyter-widgets/controls",
            "_view_module_version": "1.5.0",
            "_view_name": "ProgressView",
            "bar_style": "success",
            "description": "",
            "description_tooltip": null,
            "layout": "IPY_MODEL_a9a7ca0fa43545edb944a5363dfa0795",
            "max": 231508,
            "min": 0,
            "orientation": "horizontal",
            "style": "IPY_MODEL_2fa37e5894ed4725a747afaf1ee5ea69",
            "value": 231508
          }
        },
        "c591f829e60f4d0ba1e0121afe95f0a2": {
          "model_module": "@jupyter-widgets/controls",
          "model_name": "HTMLModel",
          "model_module_version": "1.5.0",
          "state": {
            "_dom_classes": [],
            "_model_module": "@jupyter-widgets/controls",
            "_model_module_version": "1.5.0",
            "_model_name": "HTMLModel",
            "_view_count": null,
            "_view_module": "@jupyter-widgets/controls",
            "_view_module_version": "1.5.0",
            "_view_name": "HTMLView",
            "description": "",
            "description_tooltip": null,
            "layout": "IPY_MODEL_cd458717dd8744a4b875a4fc0ccf7374",
            "placeholder": "​",
            "style": "IPY_MODEL_7460f6047dd9488d9ebb4b4569dd7cc7",
            "value": " 232k/232k [00:00&lt;00:00, 8.18MB/s]"
          }
        },
        "6a30fa9eabe94d32a08f155a9200ff8a": {
          "model_module": "@jupyter-widgets/base",
          "model_name": "LayoutModel",
          "model_module_version": "1.2.0",
          "state": {
            "_model_module": "@jupyter-widgets/base",
            "_model_module_version": "1.2.0",
            "_model_name": "LayoutModel",
            "_view_count": null,
            "_view_module": "@jupyter-widgets/base",
            "_view_module_version": "1.2.0",
            "_view_name": "LayoutView",
            "align_content": null,
            "align_items": null,
            "align_self": null,
            "border": null,
            "bottom": null,
            "display": null,
            "flex": null,
            "flex_flow": null,
            "grid_area": null,
            "grid_auto_columns": null,
            "grid_auto_flow": null,
            "grid_auto_rows": null,
            "grid_column": null,
            "grid_gap": null,
            "grid_row": null,
            "grid_template_areas": null,
            "grid_template_columns": null,
            "grid_template_rows": null,
            "height": null,
            "justify_content": null,
            "justify_items": null,
            "left": null,
            "margin": null,
            "max_height": null,
            "max_width": null,
            "min_height": null,
            "min_width": null,
            "object_fit": null,
            "object_position": null,
            "order": null,
            "overflow": null,
            "overflow_x": null,
            "overflow_y": null,
            "padding": null,
            "right": null,
            "top": null,
            "visibility": null,
            "width": null
          }
        },
        "220141ee2ef5482d8cbface95ce951f7": {
          "model_module": "@jupyter-widgets/base",
          "model_name": "LayoutModel",
          "model_module_version": "1.2.0",
          "state": {
            "_model_module": "@jupyter-widgets/base",
            "_model_module_version": "1.2.0",
            "_model_name": "LayoutModel",
            "_view_count": null,
            "_view_module": "@jupyter-widgets/base",
            "_view_module_version": "1.2.0",
            "_view_name": "LayoutView",
            "align_content": null,
            "align_items": null,
            "align_self": null,
            "border": null,
            "bottom": null,
            "display": null,
            "flex": null,
            "flex_flow": null,
            "grid_area": null,
            "grid_auto_columns": null,
            "grid_auto_flow": null,
            "grid_auto_rows": null,
            "grid_column": null,
            "grid_gap": null,
            "grid_row": null,
            "grid_template_areas": null,
            "grid_template_columns": null,
            "grid_template_rows": null,
            "height": null,
            "justify_content": null,
            "justify_items": null,
            "left": null,
            "margin": null,
            "max_height": null,
            "max_width": null,
            "min_height": null,
            "min_width": null,
            "object_fit": null,
            "object_position": null,
            "order": null,
            "overflow": null,
            "overflow_x": null,
            "overflow_y": null,
            "padding": null,
            "right": null,
            "top": null,
            "visibility": null,
            "width": null
          }
        },
        "ecaa9e34ed0a4ec6a3e4a997fbb1e353": {
          "model_module": "@jupyter-widgets/controls",
          "model_name": "DescriptionStyleModel",
          "model_module_version": "1.5.0",
          "state": {
            "_model_module": "@jupyter-widgets/controls",
            "_model_module_version": "1.5.0",
            "_model_name": "DescriptionStyleModel",
            "_view_count": null,
            "_view_module": "@jupyter-widgets/base",
            "_view_module_version": "1.2.0",
            "_view_name": "StyleView",
            "description_width": ""
          }
        },
        "a9a7ca0fa43545edb944a5363dfa0795": {
          "model_module": "@jupyter-widgets/base",
          "model_name": "LayoutModel",
          "model_module_version": "1.2.0",
          "state": {
            "_model_module": "@jupyter-widgets/base",
            "_model_module_version": "1.2.0",
            "_model_name": "LayoutModel",
            "_view_count": null,
            "_view_module": "@jupyter-widgets/base",
            "_view_module_version": "1.2.0",
            "_view_name": "LayoutView",
            "align_content": null,
            "align_items": null,
            "align_self": null,
            "border": null,
            "bottom": null,
            "display": null,
            "flex": null,
            "flex_flow": null,
            "grid_area": null,
            "grid_auto_columns": null,
            "grid_auto_flow": null,
            "grid_auto_rows": null,
            "grid_column": null,
            "grid_gap": null,
            "grid_row": null,
            "grid_template_areas": null,
            "grid_template_columns": null,
            "grid_template_rows": null,
            "height": null,
            "justify_content": null,
            "justify_items": null,
            "left": null,
            "margin": null,
            "max_height": null,
            "max_width": null,
            "min_height": null,
            "min_width": null,
            "object_fit": null,
            "object_position": null,
            "order": null,
            "overflow": null,
            "overflow_x": null,
            "overflow_y": null,
            "padding": null,
            "right": null,
            "top": null,
            "visibility": null,
            "width": null
          }
        },
        "2fa37e5894ed4725a747afaf1ee5ea69": {
          "model_module": "@jupyter-widgets/controls",
          "model_name": "ProgressStyleModel",
          "model_module_version": "1.5.0",
          "state": {
            "_model_module": "@jupyter-widgets/controls",
            "_model_module_version": "1.5.0",
            "_model_name": "ProgressStyleModel",
            "_view_count": null,
            "_view_module": "@jupyter-widgets/base",
            "_view_module_version": "1.2.0",
            "_view_name": "StyleView",
            "bar_color": null,
            "description_width": ""
          }
        },
        "cd458717dd8744a4b875a4fc0ccf7374": {
          "model_module": "@jupyter-widgets/base",
          "model_name": "LayoutModel",
          "model_module_version": "1.2.0",
          "state": {
            "_model_module": "@jupyter-widgets/base",
            "_model_module_version": "1.2.0",
            "_model_name": "LayoutModel",
            "_view_count": null,
            "_view_module": "@jupyter-widgets/base",
            "_view_module_version": "1.2.0",
            "_view_name": "LayoutView",
            "align_content": null,
            "align_items": null,
            "align_self": null,
            "border": null,
            "bottom": null,
            "display": null,
            "flex": null,
            "flex_flow": null,
            "grid_area": null,
            "grid_auto_columns": null,
            "grid_auto_flow": null,
            "grid_auto_rows": null,
            "grid_column": null,
            "grid_gap": null,
            "grid_row": null,
            "grid_template_areas": null,
            "grid_template_columns": null,
            "grid_template_rows": null,
            "height": null,
            "justify_content": null,
            "justify_items": null,
            "left": null,
            "margin": null,
            "max_height": null,
            "max_width": null,
            "min_height": null,
            "min_width": null,
            "object_fit": null,
            "object_position": null,
            "order": null,
            "overflow": null,
            "overflow_x": null,
            "overflow_y": null,
            "padding": null,
            "right": null,
            "top": null,
            "visibility": null,
            "width": null
          }
        },
        "7460f6047dd9488d9ebb4b4569dd7cc7": {
          "model_module": "@jupyter-widgets/controls",
          "model_name": "DescriptionStyleModel",
          "model_module_version": "1.5.0",
          "state": {
            "_model_module": "@jupyter-widgets/controls",
            "_model_module_version": "1.5.0",
            "_model_name": "DescriptionStyleModel",
            "_view_count": null,
            "_view_module": "@jupyter-widgets/base",
            "_view_module_version": "1.2.0",
            "_view_name": "StyleView",
            "description_width": ""
          }
        },
        "2e51ed6d08784ed3afd9bdb677f595cd": {
          "model_module": "@jupyter-widgets/controls",
          "model_name": "HBoxModel",
          "model_module_version": "1.5.0",
          "state": {
            "_dom_classes": [],
            "_model_module": "@jupyter-widgets/controls",
            "_model_module_version": "1.5.0",
            "_model_name": "HBoxModel",
            "_view_count": null,
            "_view_module": "@jupyter-widgets/controls",
            "_view_module_version": "1.5.0",
            "_view_name": "HBoxView",
            "box_style": "",
            "children": [
              "IPY_MODEL_c88ad5008d074208a20e548586f0c723",
              "IPY_MODEL_cc4643836540488bb381704ada6d6ea2",
              "IPY_MODEL_c5a1d69656ea4d1eb5cb741c659b7e77"
            ],
            "layout": "IPY_MODEL_10b4afdc9f1241d08be8f3e775473bb4"
          }
        },
        "c88ad5008d074208a20e548586f0c723": {
          "model_module": "@jupyter-widgets/controls",
          "model_name": "HTMLModel",
          "model_module_version": "1.5.0",
          "state": {
            "_dom_classes": [],
            "_model_module": "@jupyter-widgets/controls",
            "_model_module_version": "1.5.0",
            "_model_name": "HTMLModel",
            "_view_count": null,
            "_view_module": "@jupyter-widgets/controls",
            "_view_module_version": "1.5.0",
            "_view_name": "HTMLView",
            "description": "",
            "description_tooltip": null,
            "layout": "IPY_MODEL_dbebe1e8de54412fa84d7e04896f481a",
            "placeholder": "​",
            "style": "IPY_MODEL_6b5a1ababeb84f8dbd4848b286457a28",
            "value": "Downloading (…)/main/tokenizer.json: 100%"
          }
        },
        "cc4643836540488bb381704ada6d6ea2": {
          "model_module": "@jupyter-widgets/controls",
          "model_name": "FloatProgressModel",
          "model_module_version": "1.5.0",
          "state": {
            "_dom_classes": [],
            "_model_module": "@jupyter-widgets/controls",
            "_model_module_version": "1.5.0",
            "_model_name": "FloatProgressModel",
            "_view_count": null,
            "_view_module": "@jupyter-widgets/controls",
            "_view_module_version": "1.5.0",
            "_view_name": "ProgressView",
            "bar_style": "success",
            "description": "",
            "description_tooltip": null,
            "layout": "IPY_MODEL_df9909eae1314d18ab010193e1b178c0",
            "max": 466062,
            "min": 0,
            "orientation": "horizontal",
            "style": "IPY_MODEL_46b88610760b4f99bab8f4cd7fbc3a0d",
            "value": 466062
          }
        },
        "c5a1d69656ea4d1eb5cb741c659b7e77": {
          "model_module": "@jupyter-widgets/controls",
          "model_name": "HTMLModel",
          "model_module_version": "1.5.0",
          "state": {
            "_dom_classes": [],
            "_model_module": "@jupyter-widgets/controls",
            "_model_module_version": "1.5.0",
            "_model_name": "HTMLModel",
            "_view_count": null,
            "_view_module": "@jupyter-widgets/controls",
            "_view_module_version": "1.5.0",
            "_view_name": "HTMLView",
            "description": "",
            "description_tooltip": null,
            "layout": "IPY_MODEL_ca446fb2b6434eabb13a79002ccf4352",
            "placeholder": "​",
            "style": "IPY_MODEL_97f4f2355e174acf974f384ac2231c8a",
            "value": " 466k/466k [00:00&lt;00:00, 2.22MB/s]"
          }
        },
        "10b4afdc9f1241d08be8f3e775473bb4": {
          "model_module": "@jupyter-widgets/base",
          "model_name": "LayoutModel",
          "model_module_version": "1.2.0",
          "state": {
            "_model_module": "@jupyter-widgets/base",
            "_model_module_version": "1.2.0",
            "_model_name": "LayoutModel",
            "_view_count": null,
            "_view_module": "@jupyter-widgets/base",
            "_view_module_version": "1.2.0",
            "_view_name": "LayoutView",
            "align_content": null,
            "align_items": null,
            "align_self": null,
            "border": null,
            "bottom": null,
            "display": null,
            "flex": null,
            "flex_flow": null,
            "grid_area": null,
            "grid_auto_columns": null,
            "grid_auto_flow": null,
            "grid_auto_rows": null,
            "grid_column": null,
            "grid_gap": null,
            "grid_row": null,
            "grid_template_areas": null,
            "grid_template_columns": null,
            "grid_template_rows": null,
            "height": null,
            "justify_content": null,
            "justify_items": null,
            "left": null,
            "margin": null,
            "max_height": null,
            "max_width": null,
            "min_height": null,
            "min_width": null,
            "object_fit": null,
            "object_position": null,
            "order": null,
            "overflow": null,
            "overflow_x": null,
            "overflow_y": null,
            "padding": null,
            "right": null,
            "top": null,
            "visibility": null,
            "width": null
          }
        },
        "dbebe1e8de54412fa84d7e04896f481a": {
          "model_module": "@jupyter-widgets/base",
          "model_name": "LayoutModel",
          "model_module_version": "1.2.0",
          "state": {
            "_model_module": "@jupyter-widgets/base",
            "_model_module_version": "1.2.0",
            "_model_name": "LayoutModel",
            "_view_count": null,
            "_view_module": "@jupyter-widgets/base",
            "_view_module_version": "1.2.0",
            "_view_name": "LayoutView",
            "align_content": null,
            "align_items": null,
            "align_self": null,
            "border": null,
            "bottom": null,
            "display": null,
            "flex": null,
            "flex_flow": null,
            "grid_area": null,
            "grid_auto_columns": null,
            "grid_auto_flow": null,
            "grid_auto_rows": null,
            "grid_column": null,
            "grid_gap": null,
            "grid_row": null,
            "grid_template_areas": null,
            "grid_template_columns": null,
            "grid_template_rows": null,
            "height": null,
            "justify_content": null,
            "justify_items": null,
            "left": null,
            "margin": null,
            "max_height": null,
            "max_width": null,
            "min_height": null,
            "min_width": null,
            "object_fit": null,
            "object_position": null,
            "order": null,
            "overflow": null,
            "overflow_x": null,
            "overflow_y": null,
            "padding": null,
            "right": null,
            "top": null,
            "visibility": null,
            "width": null
          }
        },
        "6b5a1ababeb84f8dbd4848b286457a28": {
          "model_module": "@jupyter-widgets/controls",
          "model_name": "DescriptionStyleModel",
          "model_module_version": "1.5.0",
          "state": {
            "_model_module": "@jupyter-widgets/controls",
            "_model_module_version": "1.5.0",
            "_model_name": "DescriptionStyleModel",
            "_view_count": null,
            "_view_module": "@jupyter-widgets/base",
            "_view_module_version": "1.2.0",
            "_view_name": "StyleView",
            "description_width": ""
          }
        },
        "df9909eae1314d18ab010193e1b178c0": {
          "model_module": "@jupyter-widgets/base",
          "model_name": "LayoutModel",
          "model_module_version": "1.2.0",
          "state": {
            "_model_module": "@jupyter-widgets/base",
            "_model_module_version": "1.2.0",
            "_model_name": "LayoutModel",
            "_view_count": null,
            "_view_module": "@jupyter-widgets/base",
            "_view_module_version": "1.2.0",
            "_view_name": "LayoutView",
            "align_content": null,
            "align_items": null,
            "align_self": null,
            "border": null,
            "bottom": null,
            "display": null,
            "flex": null,
            "flex_flow": null,
            "grid_area": null,
            "grid_auto_columns": null,
            "grid_auto_flow": null,
            "grid_auto_rows": null,
            "grid_column": null,
            "grid_gap": null,
            "grid_row": null,
            "grid_template_areas": null,
            "grid_template_columns": null,
            "grid_template_rows": null,
            "height": null,
            "justify_content": null,
            "justify_items": null,
            "left": null,
            "margin": null,
            "max_height": null,
            "max_width": null,
            "min_height": null,
            "min_width": null,
            "object_fit": null,
            "object_position": null,
            "order": null,
            "overflow": null,
            "overflow_x": null,
            "overflow_y": null,
            "padding": null,
            "right": null,
            "top": null,
            "visibility": null,
            "width": null
          }
        },
        "46b88610760b4f99bab8f4cd7fbc3a0d": {
          "model_module": "@jupyter-widgets/controls",
          "model_name": "ProgressStyleModel",
          "model_module_version": "1.5.0",
          "state": {
            "_model_module": "@jupyter-widgets/controls",
            "_model_module_version": "1.5.0",
            "_model_name": "ProgressStyleModel",
            "_view_count": null,
            "_view_module": "@jupyter-widgets/base",
            "_view_module_version": "1.2.0",
            "_view_name": "StyleView",
            "bar_color": null,
            "description_width": ""
          }
        },
        "ca446fb2b6434eabb13a79002ccf4352": {
          "model_module": "@jupyter-widgets/base",
          "model_name": "LayoutModel",
          "model_module_version": "1.2.0",
          "state": {
            "_model_module": "@jupyter-widgets/base",
            "_model_module_version": "1.2.0",
            "_model_name": "LayoutModel",
            "_view_count": null,
            "_view_module": "@jupyter-widgets/base",
            "_view_module_version": "1.2.0",
            "_view_name": "LayoutView",
            "align_content": null,
            "align_items": null,
            "align_self": null,
            "border": null,
            "bottom": null,
            "display": null,
            "flex": null,
            "flex_flow": null,
            "grid_area": null,
            "grid_auto_columns": null,
            "grid_auto_flow": null,
            "grid_auto_rows": null,
            "grid_column": null,
            "grid_gap": null,
            "grid_row": null,
            "grid_template_areas": null,
            "grid_template_columns": null,
            "grid_template_rows": null,
            "height": null,
            "justify_content": null,
            "justify_items": null,
            "left": null,
            "margin": null,
            "max_height": null,
            "max_width": null,
            "min_height": null,
            "min_width": null,
            "object_fit": null,
            "object_position": null,
            "order": null,
            "overflow": null,
            "overflow_x": null,
            "overflow_y": null,
            "padding": null,
            "right": null,
            "top": null,
            "visibility": null,
            "width": null
          }
        },
        "97f4f2355e174acf974f384ac2231c8a": {
          "model_module": "@jupyter-widgets/controls",
          "model_name": "DescriptionStyleModel",
          "model_module_version": "1.5.0",
          "state": {
            "_model_module": "@jupyter-widgets/controls",
            "_model_module_version": "1.5.0",
            "_model_name": "DescriptionStyleModel",
            "_view_count": null,
            "_view_module": "@jupyter-widgets/base",
            "_view_module_version": "1.2.0",
            "_view_name": "StyleView",
            "description_width": ""
          }
        },
        "72c7e32a5dac495ca277ce2b46b0db8e": {
          "model_module": "@jupyter-widgets/controls",
          "model_name": "HBoxModel",
          "model_module_version": "1.5.0",
          "state": {
            "_dom_classes": [],
            "_model_module": "@jupyter-widgets/controls",
            "_model_module_version": "1.5.0",
            "_model_name": "HBoxModel",
            "_view_count": null,
            "_view_module": "@jupyter-widgets/controls",
            "_view_module_version": "1.5.0",
            "_view_name": "HBoxView",
            "box_style": "",
            "children": [
              "IPY_MODEL_7a20ee1b70d2454cb7811669e5bf8d8b",
              "IPY_MODEL_a7a5a5b5f2474ec3898f7315db69c50c",
              "IPY_MODEL_667ade801d994524afa1bbedc548c435"
            ],
            "layout": "IPY_MODEL_caa576a9a03f49638585ee912f66a882"
          }
        },
        "7a20ee1b70d2454cb7811669e5bf8d8b": {
          "model_module": "@jupyter-widgets/controls",
          "model_name": "HTMLModel",
          "model_module_version": "1.5.0",
          "state": {
            "_dom_classes": [],
            "_model_module": "@jupyter-widgets/controls",
            "_model_module_version": "1.5.0",
            "_model_name": "HTMLModel",
            "_view_count": null,
            "_view_module": "@jupyter-widgets/controls",
            "_view_module_version": "1.5.0",
            "_view_name": "HTMLView",
            "description": "",
            "description_tooltip": null,
            "layout": "IPY_MODEL_e721ea242ffe40a98232e4b044a00883",
            "placeholder": "​",
            "style": "IPY_MODEL_46e0da2dd7ff4af0932bb1f12618b42b",
            "value": "Downloading (…)lve/main/config.json: 100%"
          }
        },
        "a7a5a5b5f2474ec3898f7315db69c50c": {
          "model_module": "@jupyter-widgets/controls",
          "model_name": "FloatProgressModel",
          "model_module_version": "1.5.0",
          "state": {
            "_dom_classes": [],
            "_model_module": "@jupyter-widgets/controls",
            "_model_module_version": "1.5.0",
            "_model_name": "FloatProgressModel",
            "_view_count": null,
            "_view_module": "@jupyter-widgets/controls",
            "_view_module_version": "1.5.0",
            "_view_name": "ProgressView",
            "bar_style": "success",
            "description": "",
            "description_tooltip": null,
            "layout": "IPY_MODEL_127785c24e174a25b67416c6dfc6754b",
            "max": 483,
            "min": 0,
            "orientation": "horizontal",
            "style": "IPY_MODEL_4460ec846c0c411cb4b2ea833daadec2",
            "value": 483
          }
        },
        "667ade801d994524afa1bbedc548c435": {
          "model_module": "@jupyter-widgets/controls",
          "model_name": "HTMLModel",
          "model_module_version": "1.5.0",
          "state": {
            "_dom_classes": [],
            "_model_module": "@jupyter-widgets/controls",
            "_model_module_version": "1.5.0",
            "_model_name": "HTMLModel",
            "_view_count": null,
            "_view_module": "@jupyter-widgets/controls",
            "_view_module_version": "1.5.0",
            "_view_name": "HTMLView",
            "description": "",
            "description_tooltip": null,
            "layout": "IPY_MODEL_2501fe07fcbe4b97b276f06878d69e58",
            "placeholder": "​",
            "style": "IPY_MODEL_15ae2b955efc46d6bf9dcf52f4c4f747",
            "value": " 483/483 [00:00&lt;00:00, 34.2kB/s]"
          }
        },
        "caa576a9a03f49638585ee912f66a882": {
          "model_module": "@jupyter-widgets/base",
          "model_name": "LayoutModel",
          "model_module_version": "1.2.0",
          "state": {
            "_model_module": "@jupyter-widgets/base",
            "_model_module_version": "1.2.0",
            "_model_name": "LayoutModel",
            "_view_count": null,
            "_view_module": "@jupyter-widgets/base",
            "_view_module_version": "1.2.0",
            "_view_name": "LayoutView",
            "align_content": null,
            "align_items": null,
            "align_self": null,
            "border": null,
            "bottom": null,
            "display": null,
            "flex": null,
            "flex_flow": null,
            "grid_area": null,
            "grid_auto_columns": null,
            "grid_auto_flow": null,
            "grid_auto_rows": null,
            "grid_column": null,
            "grid_gap": null,
            "grid_row": null,
            "grid_template_areas": null,
            "grid_template_columns": null,
            "grid_template_rows": null,
            "height": null,
            "justify_content": null,
            "justify_items": null,
            "left": null,
            "margin": null,
            "max_height": null,
            "max_width": null,
            "min_height": null,
            "min_width": null,
            "object_fit": null,
            "object_position": null,
            "order": null,
            "overflow": null,
            "overflow_x": null,
            "overflow_y": null,
            "padding": null,
            "right": null,
            "top": null,
            "visibility": null,
            "width": null
          }
        },
        "e721ea242ffe40a98232e4b044a00883": {
          "model_module": "@jupyter-widgets/base",
          "model_name": "LayoutModel",
          "model_module_version": "1.2.0",
          "state": {
            "_model_module": "@jupyter-widgets/base",
            "_model_module_version": "1.2.0",
            "_model_name": "LayoutModel",
            "_view_count": null,
            "_view_module": "@jupyter-widgets/base",
            "_view_module_version": "1.2.0",
            "_view_name": "LayoutView",
            "align_content": null,
            "align_items": null,
            "align_self": null,
            "border": null,
            "bottom": null,
            "display": null,
            "flex": null,
            "flex_flow": null,
            "grid_area": null,
            "grid_auto_columns": null,
            "grid_auto_flow": null,
            "grid_auto_rows": null,
            "grid_column": null,
            "grid_gap": null,
            "grid_row": null,
            "grid_template_areas": null,
            "grid_template_columns": null,
            "grid_template_rows": null,
            "height": null,
            "justify_content": null,
            "justify_items": null,
            "left": null,
            "margin": null,
            "max_height": null,
            "max_width": null,
            "min_height": null,
            "min_width": null,
            "object_fit": null,
            "object_position": null,
            "order": null,
            "overflow": null,
            "overflow_x": null,
            "overflow_y": null,
            "padding": null,
            "right": null,
            "top": null,
            "visibility": null,
            "width": null
          }
        },
        "46e0da2dd7ff4af0932bb1f12618b42b": {
          "model_module": "@jupyter-widgets/controls",
          "model_name": "DescriptionStyleModel",
          "model_module_version": "1.5.0",
          "state": {
            "_model_module": "@jupyter-widgets/controls",
            "_model_module_version": "1.5.0",
            "_model_name": "DescriptionStyleModel",
            "_view_count": null,
            "_view_module": "@jupyter-widgets/base",
            "_view_module_version": "1.2.0",
            "_view_name": "StyleView",
            "description_width": ""
          }
        },
        "127785c24e174a25b67416c6dfc6754b": {
          "model_module": "@jupyter-widgets/base",
          "model_name": "LayoutModel",
          "model_module_version": "1.2.0",
          "state": {
            "_model_module": "@jupyter-widgets/base",
            "_model_module_version": "1.2.0",
            "_model_name": "LayoutModel",
            "_view_count": null,
            "_view_module": "@jupyter-widgets/base",
            "_view_module_version": "1.2.0",
            "_view_name": "LayoutView",
            "align_content": null,
            "align_items": null,
            "align_self": null,
            "border": null,
            "bottom": null,
            "display": null,
            "flex": null,
            "flex_flow": null,
            "grid_area": null,
            "grid_auto_columns": null,
            "grid_auto_flow": null,
            "grid_auto_rows": null,
            "grid_column": null,
            "grid_gap": null,
            "grid_row": null,
            "grid_template_areas": null,
            "grid_template_columns": null,
            "grid_template_rows": null,
            "height": null,
            "justify_content": null,
            "justify_items": null,
            "left": null,
            "margin": null,
            "max_height": null,
            "max_width": null,
            "min_height": null,
            "min_width": null,
            "object_fit": null,
            "object_position": null,
            "order": null,
            "overflow": null,
            "overflow_x": null,
            "overflow_y": null,
            "padding": null,
            "right": null,
            "top": null,
            "visibility": null,
            "width": null
          }
        },
        "4460ec846c0c411cb4b2ea833daadec2": {
          "model_module": "@jupyter-widgets/controls",
          "model_name": "ProgressStyleModel",
          "model_module_version": "1.5.0",
          "state": {
            "_model_module": "@jupyter-widgets/controls",
            "_model_module_version": "1.5.0",
            "_model_name": "ProgressStyleModel",
            "_view_count": null,
            "_view_module": "@jupyter-widgets/base",
            "_view_module_version": "1.2.0",
            "_view_name": "StyleView",
            "bar_color": null,
            "description_width": ""
          }
        },
        "2501fe07fcbe4b97b276f06878d69e58": {
          "model_module": "@jupyter-widgets/base",
          "model_name": "LayoutModel",
          "model_module_version": "1.2.0",
          "state": {
            "_model_module": "@jupyter-widgets/base",
            "_model_module_version": "1.2.0",
            "_model_name": "LayoutModel",
            "_view_count": null,
            "_view_module": "@jupyter-widgets/base",
            "_view_module_version": "1.2.0",
            "_view_name": "LayoutView",
            "align_content": null,
            "align_items": null,
            "align_self": null,
            "border": null,
            "bottom": null,
            "display": null,
            "flex": null,
            "flex_flow": null,
            "grid_area": null,
            "grid_auto_columns": null,
            "grid_auto_flow": null,
            "grid_auto_rows": null,
            "grid_column": null,
            "grid_gap": null,
            "grid_row": null,
            "grid_template_areas": null,
            "grid_template_columns": null,
            "grid_template_rows": null,
            "height": null,
            "justify_content": null,
            "justify_items": null,
            "left": null,
            "margin": null,
            "max_height": null,
            "max_width": null,
            "min_height": null,
            "min_width": null,
            "object_fit": null,
            "object_position": null,
            "order": null,
            "overflow": null,
            "overflow_x": null,
            "overflow_y": null,
            "padding": null,
            "right": null,
            "top": null,
            "visibility": null,
            "width": null
          }
        },
        "15ae2b955efc46d6bf9dcf52f4c4f747": {
          "model_module": "@jupyter-widgets/controls",
          "model_name": "DescriptionStyleModel",
          "model_module_version": "1.5.0",
          "state": {
            "_model_module": "@jupyter-widgets/controls",
            "_model_module_version": "1.5.0",
            "_model_name": "DescriptionStyleModel",
            "_view_count": null,
            "_view_module": "@jupyter-widgets/base",
            "_view_module_version": "1.2.0",
            "_view_name": "StyleView",
            "description_width": ""
          }
        },
        "1651f0348a3644d48ce5086c2022224f": {
          "model_module": "@jupyter-widgets/controls",
          "model_name": "HBoxModel",
          "model_module_version": "1.5.0",
          "state": {
            "_dom_classes": [],
            "_model_module": "@jupyter-widgets/controls",
            "_model_module_version": "1.5.0",
            "_model_name": "HBoxModel",
            "_view_count": null,
            "_view_module": "@jupyter-widgets/controls",
            "_view_module_version": "1.5.0",
            "_view_name": "HBoxView",
            "box_style": "",
            "children": [
              "IPY_MODEL_a583e7087af24ba79e03f9947e7b4866",
              "IPY_MODEL_7d0b199204f743438653ce30f3935e60",
              "IPY_MODEL_60652067311b44dab46c607607942618"
            ],
            "layout": "IPY_MODEL_2e2f545691754cc6ac8b02cc2f966813"
          }
        },
        "a583e7087af24ba79e03f9947e7b4866": {
          "model_module": "@jupyter-widgets/controls",
          "model_name": "HTMLModel",
          "model_module_version": "1.5.0",
          "state": {
            "_dom_classes": [],
            "_model_module": "@jupyter-widgets/controls",
            "_model_module_version": "1.5.0",
            "_model_name": "HTMLModel",
            "_view_count": null,
            "_view_module": "@jupyter-widgets/controls",
            "_view_module_version": "1.5.0",
            "_view_name": "HTMLView",
            "description": "",
            "description_tooltip": null,
            "layout": "IPY_MODEL_fb47a82555d849bd9e1f8620cb7f936c",
            "placeholder": "​",
            "style": "IPY_MODEL_99f3a2e7ff174f0586fe1f978f3714ee",
            "value": "Downloading tf_model.h5: 100%"
          }
        },
        "7d0b199204f743438653ce30f3935e60": {
          "model_module": "@jupyter-widgets/controls",
          "model_name": "FloatProgressModel",
          "model_module_version": "1.5.0",
          "state": {
            "_dom_classes": [],
            "_model_module": "@jupyter-widgets/controls",
            "_model_module_version": "1.5.0",
            "_model_name": "FloatProgressModel",
            "_view_count": null,
            "_view_module": "@jupyter-widgets/controls",
            "_view_module_version": "1.5.0",
            "_view_name": "ProgressView",
            "bar_style": "success",
            "description": "",
            "description_tooltip": null,
            "layout": "IPY_MODEL_a059eef091a344e794d9c7bb4c344d27",
            "max": 363423424,
            "min": 0,
            "orientation": "horizontal",
            "style": "IPY_MODEL_0fd80e6748304901b0539d27afe724cc",
            "value": 363423424
          }
        },
        "60652067311b44dab46c607607942618": {
          "model_module": "@jupyter-widgets/controls",
          "model_name": "HTMLModel",
          "model_module_version": "1.5.0",
          "state": {
            "_dom_classes": [],
            "_model_module": "@jupyter-widgets/controls",
            "_model_module_version": "1.5.0",
            "_model_name": "HTMLModel",
            "_view_count": null,
            "_view_module": "@jupyter-widgets/controls",
            "_view_module_version": "1.5.0",
            "_view_name": "HTMLView",
            "description": "",
            "description_tooltip": null,
            "layout": "IPY_MODEL_bf630705fd3f4749ad118ff9e2b5a00d",
            "placeholder": "​",
            "style": "IPY_MODEL_c37e275621494df5a9f5a61e18228146",
            "value": " 363M/363M [00:02&lt;00:00, 211MB/s]"
          }
        },
        "2e2f545691754cc6ac8b02cc2f966813": {
          "model_module": "@jupyter-widgets/base",
          "model_name": "LayoutModel",
          "model_module_version": "1.2.0",
          "state": {
            "_model_module": "@jupyter-widgets/base",
            "_model_module_version": "1.2.0",
            "_model_name": "LayoutModel",
            "_view_count": null,
            "_view_module": "@jupyter-widgets/base",
            "_view_module_version": "1.2.0",
            "_view_name": "LayoutView",
            "align_content": null,
            "align_items": null,
            "align_self": null,
            "border": null,
            "bottom": null,
            "display": null,
            "flex": null,
            "flex_flow": null,
            "grid_area": null,
            "grid_auto_columns": null,
            "grid_auto_flow": null,
            "grid_auto_rows": null,
            "grid_column": null,
            "grid_gap": null,
            "grid_row": null,
            "grid_template_areas": null,
            "grid_template_columns": null,
            "grid_template_rows": null,
            "height": null,
            "justify_content": null,
            "justify_items": null,
            "left": null,
            "margin": null,
            "max_height": null,
            "max_width": null,
            "min_height": null,
            "min_width": null,
            "object_fit": null,
            "object_position": null,
            "order": null,
            "overflow": null,
            "overflow_x": null,
            "overflow_y": null,
            "padding": null,
            "right": null,
            "top": null,
            "visibility": null,
            "width": null
          }
        },
        "fb47a82555d849bd9e1f8620cb7f936c": {
          "model_module": "@jupyter-widgets/base",
          "model_name": "LayoutModel",
          "model_module_version": "1.2.0",
          "state": {
            "_model_module": "@jupyter-widgets/base",
            "_model_module_version": "1.2.0",
            "_model_name": "LayoutModel",
            "_view_count": null,
            "_view_module": "@jupyter-widgets/base",
            "_view_module_version": "1.2.0",
            "_view_name": "LayoutView",
            "align_content": null,
            "align_items": null,
            "align_self": null,
            "border": null,
            "bottom": null,
            "display": null,
            "flex": null,
            "flex_flow": null,
            "grid_area": null,
            "grid_auto_columns": null,
            "grid_auto_flow": null,
            "grid_auto_rows": null,
            "grid_column": null,
            "grid_gap": null,
            "grid_row": null,
            "grid_template_areas": null,
            "grid_template_columns": null,
            "grid_template_rows": null,
            "height": null,
            "justify_content": null,
            "justify_items": null,
            "left": null,
            "margin": null,
            "max_height": null,
            "max_width": null,
            "min_height": null,
            "min_width": null,
            "object_fit": null,
            "object_position": null,
            "order": null,
            "overflow": null,
            "overflow_x": null,
            "overflow_y": null,
            "padding": null,
            "right": null,
            "top": null,
            "visibility": null,
            "width": null
          }
        },
        "99f3a2e7ff174f0586fe1f978f3714ee": {
          "model_module": "@jupyter-widgets/controls",
          "model_name": "DescriptionStyleModel",
          "model_module_version": "1.5.0",
          "state": {
            "_model_module": "@jupyter-widgets/controls",
            "_model_module_version": "1.5.0",
            "_model_name": "DescriptionStyleModel",
            "_view_count": null,
            "_view_module": "@jupyter-widgets/base",
            "_view_module_version": "1.2.0",
            "_view_name": "StyleView",
            "description_width": ""
          }
        },
        "a059eef091a344e794d9c7bb4c344d27": {
          "model_module": "@jupyter-widgets/base",
          "model_name": "LayoutModel",
          "model_module_version": "1.2.0",
          "state": {
            "_model_module": "@jupyter-widgets/base",
            "_model_module_version": "1.2.0",
            "_model_name": "LayoutModel",
            "_view_count": null,
            "_view_module": "@jupyter-widgets/base",
            "_view_module_version": "1.2.0",
            "_view_name": "LayoutView",
            "align_content": null,
            "align_items": null,
            "align_self": null,
            "border": null,
            "bottom": null,
            "display": null,
            "flex": null,
            "flex_flow": null,
            "grid_area": null,
            "grid_auto_columns": null,
            "grid_auto_flow": null,
            "grid_auto_rows": null,
            "grid_column": null,
            "grid_gap": null,
            "grid_row": null,
            "grid_template_areas": null,
            "grid_template_columns": null,
            "grid_template_rows": null,
            "height": null,
            "justify_content": null,
            "justify_items": null,
            "left": null,
            "margin": null,
            "max_height": null,
            "max_width": null,
            "min_height": null,
            "min_width": null,
            "object_fit": null,
            "object_position": null,
            "order": null,
            "overflow": null,
            "overflow_x": null,
            "overflow_y": null,
            "padding": null,
            "right": null,
            "top": null,
            "visibility": null,
            "width": null
          }
        },
        "0fd80e6748304901b0539d27afe724cc": {
          "model_module": "@jupyter-widgets/controls",
          "model_name": "ProgressStyleModel",
          "model_module_version": "1.5.0",
          "state": {
            "_model_module": "@jupyter-widgets/controls",
            "_model_module_version": "1.5.0",
            "_model_name": "ProgressStyleModel",
            "_view_count": null,
            "_view_module": "@jupyter-widgets/base",
            "_view_module_version": "1.2.0",
            "_view_name": "StyleView",
            "bar_color": null,
            "description_width": ""
          }
        },
        "bf630705fd3f4749ad118ff9e2b5a00d": {
          "model_module": "@jupyter-widgets/base",
          "model_name": "LayoutModel",
          "model_module_version": "1.2.0",
          "state": {
            "_model_module": "@jupyter-widgets/base",
            "_model_module_version": "1.2.0",
            "_model_name": "LayoutModel",
            "_view_count": null,
            "_view_module": "@jupyter-widgets/base",
            "_view_module_version": "1.2.0",
            "_view_name": "LayoutView",
            "align_content": null,
            "align_items": null,
            "align_self": null,
            "border": null,
            "bottom": null,
            "display": null,
            "flex": null,
            "flex_flow": null,
            "grid_area": null,
            "grid_auto_columns": null,
            "grid_auto_flow": null,
            "grid_auto_rows": null,
            "grid_column": null,
            "grid_gap": null,
            "grid_row": null,
            "grid_template_areas": null,
            "grid_template_columns": null,
            "grid_template_rows": null,
            "height": null,
            "justify_content": null,
            "justify_items": null,
            "left": null,
            "margin": null,
            "max_height": null,
            "max_width": null,
            "min_height": null,
            "min_width": null,
            "object_fit": null,
            "object_position": null,
            "order": null,
            "overflow": null,
            "overflow_x": null,
            "overflow_y": null,
            "padding": null,
            "right": null,
            "top": null,
            "visibility": null,
            "width": null
          }
        },
        "c37e275621494df5a9f5a61e18228146": {
          "model_module": "@jupyter-widgets/controls",
          "model_name": "DescriptionStyleModel",
          "model_module_version": "1.5.0",
          "state": {
            "_model_module": "@jupyter-widgets/controls",
            "_model_module_version": "1.5.0",
            "_model_name": "DescriptionStyleModel",
            "_view_count": null,
            "_view_module": "@jupyter-widgets/base",
            "_view_module_version": "1.2.0",
            "_view_name": "StyleView",
            "description_width": ""
          }
        }
      }
    },
    "accelerator": "GPU"
  },
  "cells": [
    {
      "cell_type": "markdown",
      "source": [
        "## Import Dataset\n",
        "\n",
        "A dataset of manually annotated English Twitter tweets with six basic emotions: anger, fear, joy, love, sadness, and surprise.\n",
        "\n",
        "For further information, click [here](https://www.kaggle.com/datasets/parulpandey/emotion-dataset?select=training.csv)."
      ],
      "metadata": {
        "id": "8edd-BeWIR9d"
      }
    },
    {
      "cell_type": "code",
      "execution_count": 1,
      "metadata": {
        "colab": {
          "base_uri": "https://localhost:8080/"
        },
        "id": "hFusP-_5vU-j",
        "outputId": "0e48e749-541f-4805-c996-615cc845d40a"
      },
      "outputs": [
        {
          "output_type": "stream",
          "name": "stdout",
          "text": [
            "Archive:  archive.zip\n",
            "  inflating: test.csv                \n",
            "  inflating: training.csv            \n",
            "  inflating: validation.csv          \n",
            "Archive:  archive-1.zip\n",
            "  inflating: tweet_emotions.csv      \n"
          ]
        }
      ],
      "source": [
        "!unzip archive.zip\n",
        "!unzip archive-1.zip"
      ]
    },
    {
      "cell_type": "code",
      "source": [
        "import pandas as pd\n",
        "train = pd.read_csv(\"training.csv\")\n",
        "test = pd.read_csv(\"test.csv\")\n",
        "validation = pd.read_csv(\"validation.csv\")\n",
        "\n",
        "print(f\"Train shape:\\t\\t {train.shape}\")\n",
        "print(f\"Test shape:\\t\\t {test.shape}\")\n",
        "print(f\"Validation shape:\\t {validation.shape}\")"
      ],
      "metadata": {
        "colab": {
          "base_uri": "https://localhost:8080/"
        },
        "id": "BJP1nj9_v1Qd",
        "outputId": "c1cd58a4-19db-4ced-b870-4f9681fe2622"
      },
      "execution_count": 2,
      "outputs": [
        {
          "output_type": "stream",
          "name": "stdout",
          "text": [
            "Train shape:\t\t (16000, 2)\n",
            "Test shape:\t\t (2000, 2)\n",
            "Validation shape:\t (2000, 2)\n"
          ]
        }
      ]
    },
    {
      "cell_type": "code",
      "source": [
        "train.head(9)"
      ],
      "metadata": {
        "colab": {
          "base_uri": "https://localhost:8080/",
          "height": 332
        },
        "id": "B9zozR8nwKAm",
        "outputId": "83e1145a-98fd-4a05-dd9e-21cc8b701915"
      },
      "execution_count": 3,
      "outputs": [
        {
          "output_type": "execute_result",
          "data": {
            "text/plain": [
              "                                                text  label\n",
              "0                            i didnt feel humiliated      0\n",
              "1  i can go from feeling so hopeless to so damned...      0\n",
              "2   im grabbing a minute to post i feel greedy wrong      3\n",
              "3  i am ever feeling nostalgic about the fireplac...      2\n",
              "4                               i am feeling grouchy      3\n",
              "5  ive been feeling a little burdened lately wasn...      0\n",
              "6  ive been taking or milligrams or times recomme...      5\n",
              "7  i feel as confused about life as a teenager or...      4\n",
              "8  i have been with petronas for years i feel tha...      1"
            ],
            "text/html": [
              "\n",
              "  <div id=\"df-33cf4415-c3f8-4136-b772-bb5ffcd601da\">\n",
              "    <div class=\"colab-df-container\">\n",
              "      <div>\n",
              "<style scoped>\n",
              "    .dataframe tbody tr th:only-of-type {\n",
              "        vertical-align: middle;\n",
              "    }\n",
              "\n",
              "    .dataframe tbody tr th {\n",
              "        vertical-align: top;\n",
              "    }\n",
              "\n",
              "    .dataframe thead th {\n",
              "        text-align: right;\n",
              "    }\n",
              "</style>\n",
              "<table border=\"1\" class=\"dataframe\">\n",
              "  <thead>\n",
              "    <tr style=\"text-align: right;\">\n",
              "      <th></th>\n",
              "      <th>text</th>\n",
              "      <th>label</th>\n",
              "    </tr>\n",
              "  </thead>\n",
              "  <tbody>\n",
              "    <tr>\n",
              "      <th>0</th>\n",
              "      <td>i didnt feel humiliated</td>\n",
              "      <td>0</td>\n",
              "    </tr>\n",
              "    <tr>\n",
              "      <th>1</th>\n",
              "      <td>i can go from feeling so hopeless to so damned...</td>\n",
              "      <td>0</td>\n",
              "    </tr>\n",
              "    <tr>\n",
              "      <th>2</th>\n",
              "      <td>im grabbing a minute to post i feel greedy wrong</td>\n",
              "      <td>3</td>\n",
              "    </tr>\n",
              "    <tr>\n",
              "      <th>3</th>\n",
              "      <td>i am ever feeling nostalgic about the fireplac...</td>\n",
              "      <td>2</td>\n",
              "    </tr>\n",
              "    <tr>\n",
              "      <th>4</th>\n",
              "      <td>i am feeling grouchy</td>\n",
              "      <td>3</td>\n",
              "    </tr>\n",
              "    <tr>\n",
              "      <th>5</th>\n",
              "      <td>ive been feeling a little burdened lately wasn...</td>\n",
              "      <td>0</td>\n",
              "    </tr>\n",
              "    <tr>\n",
              "      <th>6</th>\n",
              "      <td>ive been taking or milligrams or times recomme...</td>\n",
              "      <td>5</td>\n",
              "    </tr>\n",
              "    <tr>\n",
              "      <th>7</th>\n",
              "      <td>i feel as confused about life as a teenager or...</td>\n",
              "      <td>4</td>\n",
              "    </tr>\n",
              "    <tr>\n",
              "      <th>8</th>\n",
              "      <td>i have been with petronas for years i feel tha...</td>\n",
              "      <td>1</td>\n",
              "    </tr>\n",
              "  </tbody>\n",
              "</table>\n",
              "</div>\n",
              "      <button class=\"colab-df-convert\" onclick=\"convertToInteractive('df-33cf4415-c3f8-4136-b772-bb5ffcd601da')\"\n",
              "              title=\"Convert this dataframe to an interactive table.\"\n",
              "              style=\"display:none;\">\n",
              "        \n",
              "  <svg xmlns=\"http://www.w3.org/2000/svg\" height=\"24px\"viewBox=\"0 0 24 24\"\n",
              "       width=\"24px\">\n",
              "    <path d=\"M0 0h24v24H0V0z\" fill=\"none\"/>\n",
              "    <path d=\"M18.56 5.44l.94 2.06.94-2.06 2.06-.94-2.06-.94-.94-2.06-.94 2.06-2.06.94zm-11 1L8.5 8.5l.94-2.06 2.06-.94-2.06-.94L8.5 2.5l-.94 2.06-2.06.94zm10 10l.94 2.06.94-2.06 2.06-.94-2.06-.94-.94-2.06-.94 2.06-2.06.94z\"/><path d=\"M17.41 7.96l-1.37-1.37c-.4-.4-.92-.59-1.43-.59-.52 0-1.04.2-1.43.59L10.3 9.45l-7.72 7.72c-.78.78-.78 2.05 0 2.83L4 21.41c.39.39.9.59 1.41.59.51 0 1.02-.2 1.41-.59l7.78-7.78 2.81-2.81c.8-.78.8-2.07 0-2.86zM5.41 20L4 18.59l7.72-7.72 1.47 1.35L5.41 20z\"/>\n",
              "  </svg>\n",
              "      </button>\n",
              "      \n",
              "  <style>\n",
              "    .colab-df-container {\n",
              "      display:flex;\n",
              "      flex-wrap:wrap;\n",
              "      gap: 12px;\n",
              "    }\n",
              "\n",
              "    .colab-df-convert {\n",
              "      background-color: #E8F0FE;\n",
              "      border: none;\n",
              "      border-radius: 50%;\n",
              "      cursor: pointer;\n",
              "      display: none;\n",
              "      fill: #1967D2;\n",
              "      height: 32px;\n",
              "      padding: 0 0 0 0;\n",
              "      width: 32px;\n",
              "    }\n",
              "\n",
              "    .colab-df-convert:hover {\n",
              "      background-color: #E2EBFA;\n",
              "      box-shadow: 0px 1px 2px rgba(60, 64, 67, 0.3), 0px 1px 3px 1px rgba(60, 64, 67, 0.15);\n",
              "      fill: #174EA6;\n",
              "    }\n",
              "\n",
              "    [theme=dark] .colab-df-convert {\n",
              "      background-color: #3B4455;\n",
              "      fill: #D2E3FC;\n",
              "    }\n",
              "\n",
              "    [theme=dark] .colab-df-convert:hover {\n",
              "      background-color: #434B5C;\n",
              "      box-shadow: 0px 1px 3px 1px rgba(0, 0, 0, 0.15);\n",
              "      filter: drop-shadow(0px 1px 2px rgba(0, 0, 0, 0.3));\n",
              "      fill: #FFFFFF;\n",
              "    }\n",
              "  </style>\n",
              "\n",
              "      <script>\n",
              "        const buttonEl =\n",
              "          document.querySelector('#df-33cf4415-c3f8-4136-b772-bb5ffcd601da button.colab-df-convert');\n",
              "        buttonEl.style.display =\n",
              "          google.colab.kernel.accessAllowed ? 'block' : 'none';\n",
              "\n",
              "        async function convertToInteractive(key) {\n",
              "          const element = document.querySelector('#df-33cf4415-c3f8-4136-b772-bb5ffcd601da');\n",
              "          const dataTable =\n",
              "            await google.colab.kernel.invokeFunction('convertToInteractive',\n",
              "                                                     [key], {});\n",
              "          if (!dataTable) return;\n",
              "\n",
              "          const docLinkHtml = 'Like what you see? Visit the ' +\n",
              "            '<a target=\"_blank\" href=https://colab.research.google.com/notebooks/data_table.ipynb>data table notebook</a>'\n",
              "            + ' to learn more about interactive tables.';\n",
              "          element.innerHTML = '';\n",
              "          dataTable['output_type'] = 'display_data';\n",
              "          await google.colab.output.renderOutput(dataTable, element);\n",
              "          const docLink = document.createElement('div');\n",
              "          docLink.innerHTML = docLinkHtml;\n",
              "          element.appendChild(docLink);\n",
              "        }\n",
              "      </script>\n",
              "    </div>\n",
              "  </div>\n",
              "  "
            ]
          },
          "metadata": {},
          "execution_count": 3
        }
      ]
    },
    {
      "cell_type": "code",
      "source": [
        "train[\"label\"].value_counts()"
      ],
      "metadata": {
        "colab": {
          "base_uri": "https://localhost:8080/"
        },
        "id": "LxYh14QhweoT",
        "outputId": "d57fe412-2c1b-4a08-d6fe-804104b86a76"
      },
      "execution_count": 4,
      "outputs": [
        {
          "output_type": "execute_result",
          "data": {
            "text/plain": [
              "1    5362\n",
              "0    4666\n",
              "3    2159\n",
              "4    1937\n",
              "2    1304\n",
              "5     572\n",
              "Name: label, dtype: int64"
            ]
          },
          "metadata": {},
          "execution_count": 4
        }
      ]
    },
    {
      "cell_type": "code",
      "source": [
        "test[\"label\"].value_counts()"
      ],
      "metadata": {
        "colab": {
          "base_uri": "https://localhost:8080/"
        },
        "id": "UeZUMwzT1APG",
        "outputId": "4477456b-e589-4595-b7b2-ec3ba2692e10"
      },
      "execution_count": 5,
      "outputs": [
        {
          "output_type": "execute_result",
          "data": {
            "text/plain": [
              "1    695\n",
              "0    581\n",
              "3    275\n",
              "4    224\n",
              "2    159\n",
              "5     66\n",
              "Name: label, dtype: int64"
            ]
          },
          "metadata": {},
          "execution_count": 5
        }
      ]
    },
    {
      "cell_type": "code",
      "source": [
        "validation[\"label\"].value_counts()"
      ],
      "metadata": {
        "colab": {
          "base_uri": "https://localhost:8080/"
        },
        "id": "RFDnkju-1ApP",
        "outputId": "40bf4815-d6dd-4ead-d073-690c6c7cf813"
      },
      "execution_count": 6,
      "outputs": [
        {
          "output_type": "execute_result",
          "data": {
            "text/plain": [
              "1    704\n",
              "0    550\n",
              "3    275\n",
              "4    212\n",
              "2    178\n",
              "5     81\n",
              "Name: label, dtype: int64"
            ]
          },
          "metadata": {},
          "execution_count": 6
        }
      ]
    },
    {
      "cell_type": "code",
      "source": [
        "data1 = pd.concat([train, test, validation], ignore_index=True)\n",
        "\n",
        "print(f\"Test shape: {data1.shape}\\n\")\n",
        "print(data1[\"label\"].value_counts())"
      ],
      "metadata": {
        "colab": {
          "base_uri": "https://localhost:8080/"
        },
        "id": "v1UQapMchxho",
        "outputId": "fccf5966-31ee-4652-a8aa-e7baffaf6f8c"
      },
      "execution_count": 7,
      "outputs": [
        {
          "output_type": "stream",
          "name": "stdout",
          "text": [
            "Test shape: (20000, 2)\n",
            "\n",
            "1    6761\n",
            "0    5797\n",
            "3    2709\n",
            "4    2373\n",
            "2    1641\n",
            "5     719\n",
            "Name: label, dtype: int64\n"
          ]
        }
      ]
    },
    {
      "cell_type": "markdown",
      "source": [
        "From the result above, we can see that the data is lacking of numbers.\n",
        "\n",
        "So, to overcome the lackness, we are going to use another dataset, Emotion Detection from Text ([here](https://www.kaggle.com/datasets/pashupatigupta/emotion-detection-from-text)), which has 13 emotions as the output: \n",
        "\n",
        "\n",
        "1.   neutral\n",
        "2.   worry\n",
        "3.   happiness\n",
        "4.   sadness\n",
        "5.   love\n",
        "6.   surprise\n",
        "7.   fun\n",
        "8.   relief\n",
        "9.   hate\n",
        "10.   empty\n",
        "11.   enthusiasm\n",
        "12.   boredom\n",
        "13.   anger\n",
        "<br><br>\n",
        "\n",
        "So, since the data output is different than the previous one, we have to do some configurations with the data, such as assuming that 'hate' and 'anger' are categorized as 'anger', etc.\n",
        "\n",
        "\n",
        "\n",
        "Below are the configurations:\n",
        "\n",
        "\n",
        "*   anger : hate, anger\n",
        "*   fear : worry\n",
        "*   joy : happiness, fun, relief\n",
        "*   love : love, enthusiasm\n",
        "*   sadness: sadness, empty, boredom \n",
        "*   surprise: surprise\n",
        "*   add neutral as new emotion\n",
        "\n",
        "\n",
        "\n"
      ],
      "metadata": {
        "id": "qr8dUI-khjxM"
      }
    },
    {
      "cell_type": "code",
      "source": [
        "data2 = pd.read_csv(\"tweet_emotions.csv\").drop(\"tweet_id\", axis=1)\n",
        "\n",
        "print(f\"Data2 shape:\\t\\t {data2.shape}\")"
      ],
      "metadata": {
        "colab": {
          "base_uri": "https://localhost:8080/"
        },
        "id": "96-YB_qoteHu",
        "outputId": "67aa810a-6b66-4989-c0bb-302e04b68a4b"
      },
      "execution_count": 8,
      "outputs": [
        {
          "output_type": "stream",
          "name": "stdout",
          "text": [
            "Data2 shape:\t\t (40000, 2)\n"
          ]
        }
      ]
    },
    {
      "cell_type": "code",
      "source": [
        "data2.head(9)"
      ],
      "metadata": {
        "colab": {
          "base_uri": "https://localhost:8080/",
          "height": 332
        },
        "id": "fwb7Y0Vlk6Xr",
        "outputId": "80cac56e-6583-4aed-c4e1-ba2dca249d23"
      },
      "execution_count": 9,
      "outputs": [
        {
          "output_type": "execute_result",
          "data": {
            "text/plain": [
              "    sentiment                                            content\n",
              "0       empty  @tiffanylue i know  i was listenin to bad habi...\n",
              "1     sadness  Layin n bed with a headache  ughhhh...waitin o...\n",
              "2     sadness                Funeral ceremony...gloomy friday...\n",
              "3  enthusiasm               wants to hang out with friends SOON!\n",
              "4     neutral  @dannycastillo We want to trade with someone w...\n",
              "5       worry  Re-pinging @ghostridah14: why didn't you go to...\n",
              "6     sadness  I should be sleep, but im not! thinking about ...\n",
              "7       worry               Hmmm. http://www.djhero.com/ is down\n",
              "8     sadness            @charviray Charlene my love. I miss you"
            ],
            "text/html": [
              "\n",
              "  <div id=\"df-11a2782d-782d-4ec3-9e42-9d5100918aa0\">\n",
              "    <div class=\"colab-df-container\">\n",
              "      <div>\n",
              "<style scoped>\n",
              "    .dataframe tbody tr th:only-of-type {\n",
              "        vertical-align: middle;\n",
              "    }\n",
              "\n",
              "    .dataframe tbody tr th {\n",
              "        vertical-align: top;\n",
              "    }\n",
              "\n",
              "    .dataframe thead th {\n",
              "        text-align: right;\n",
              "    }\n",
              "</style>\n",
              "<table border=\"1\" class=\"dataframe\">\n",
              "  <thead>\n",
              "    <tr style=\"text-align: right;\">\n",
              "      <th></th>\n",
              "      <th>sentiment</th>\n",
              "      <th>content</th>\n",
              "    </tr>\n",
              "  </thead>\n",
              "  <tbody>\n",
              "    <tr>\n",
              "      <th>0</th>\n",
              "      <td>empty</td>\n",
              "      <td>@tiffanylue i know  i was listenin to bad habi...</td>\n",
              "    </tr>\n",
              "    <tr>\n",
              "      <th>1</th>\n",
              "      <td>sadness</td>\n",
              "      <td>Layin n bed with a headache  ughhhh...waitin o...</td>\n",
              "    </tr>\n",
              "    <tr>\n",
              "      <th>2</th>\n",
              "      <td>sadness</td>\n",
              "      <td>Funeral ceremony...gloomy friday...</td>\n",
              "    </tr>\n",
              "    <tr>\n",
              "      <th>3</th>\n",
              "      <td>enthusiasm</td>\n",
              "      <td>wants to hang out with friends SOON!</td>\n",
              "    </tr>\n",
              "    <tr>\n",
              "      <th>4</th>\n",
              "      <td>neutral</td>\n",
              "      <td>@dannycastillo We want to trade with someone w...</td>\n",
              "    </tr>\n",
              "    <tr>\n",
              "      <th>5</th>\n",
              "      <td>worry</td>\n",
              "      <td>Re-pinging @ghostridah14: why didn't you go to...</td>\n",
              "    </tr>\n",
              "    <tr>\n",
              "      <th>6</th>\n",
              "      <td>sadness</td>\n",
              "      <td>I should be sleep, but im not! thinking about ...</td>\n",
              "    </tr>\n",
              "    <tr>\n",
              "      <th>7</th>\n",
              "      <td>worry</td>\n",
              "      <td>Hmmm. http://www.djhero.com/ is down</td>\n",
              "    </tr>\n",
              "    <tr>\n",
              "      <th>8</th>\n",
              "      <td>sadness</td>\n",
              "      <td>@charviray Charlene my love. I miss you</td>\n",
              "    </tr>\n",
              "  </tbody>\n",
              "</table>\n",
              "</div>\n",
              "      <button class=\"colab-df-convert\" onclick=\"convertToInteractive('df-11a2782d-782d-4ec3-9e42-9d5100918aa0')\"\n",
              "              title=\"Convert this dataframe to an interactive table.\"\n",
              "              style=\"display:none;\">\n",
              "        \n",
              "  <svg xmlns=\"http://www.w3.org/2000/svg\" height=\"24px\"viewBox=\"0 0 24 24\"\n",
              "       width=\"24px\">\n",
              "    <path d=\"M0 0h24v24H0V0z\" fill=\"none\"/>\n",
              "    <path d=\"M18.56 5.44l.94 2.06.94-2.06 2.06-.94-2.06-.94-.94-2.06-.94 2.06-2.06.94zm-11 1L8.5 8.5l.94-2.06 2.06-.94-2.06-.94L8.5 2.5l-.94 2.06-2.06.94zm10 10l.94 2.06.94-2.06 2.06-.94-2.06-.94-.94-2.06-.94 2.06-2.06.94z\"/><path d=\"M17.41 7.96l-1.37-1.37c-.4-.4-.92-.59-1.43-.59-.52 0-1.04.2-1.43.59L10.3 9.45l-7.72 7.72c-.78.78-.78 2.05 0 2.83L4 21.41c.39.39.9.59 1.41.59.51 0 1.02-.2 1.41-.59l7.78-7.78 2.81-2.81c.8-.78.8-2.07 0-2.86zM5.41 20L4 18.59l7.72-7.72 1.47 1.35L5.41 20z\"/>\n",
              "  </svg>\n",
              "      </button>\n",
              "      \n",
              "  <style>\n",
              "    .colab-df-container {\n",
              "      display:flex;\n",
              "      flex-wrap:wrap;\n",
              "      gap: 12px;\n",
              "    }\n",
              "\n",
              "    .colab-df-convert {\n",
              "      background-color: #E8F0FE;\n",
              "      border: none;\n",
              "      border-radius: 50%;\n",
              "      cursor: pointer;\n",
              "      display: none;\n",
              "      fill: #1967D2;\n",
              "      height: 32px;\n",
              "      padding: 0 0 0 0;\n",
              "      width: 32px;\n",
              "    }\n",
              "\n",
              "    .colab-df-convert:hover {\n",
              "      background-color: #E2EBFA;\n",
              "      box-shadow: 0px 1px 2px rgba(60, 64, 67, 0.3), 0px 1px 3px 1px rgba(60, 64, 67, 0.15);\n",
              "      fill: #174EA6;\n",
              "    }\n",
              "\n",
              "    [theme=dark] .colab-df-convert {\n",
              "      background-color: #3B4455;\n",
              "      fill: #D2E3FC;\n",
              "    }\n",
              "\n",
              "    [theme=dark] .colab-df-convert:hover {\n",
              "      background-color: #434B5C;\n",
              "      box-shadow: 0px 1px 3px 1px rgba(0, 0, 0, 0.15);\n",
              "      filter: drop-shadow(0px 1px 2px rgba(0, 0, 0, 0.3));\n",
              "      fill: #FFFFFF;\n",
              "    }\n",
              "  </style>\n",
              "\n",
              "      <script>\n",
              "        const buttonEl =\n",
              "          document.querySelector('#df-11a2782d-782d-4ec3-9e42-9d5100918aa0 button.colab-df-convert');\n",
              "        buttonEl.style.display =\n",
              "          google.colab.kernel.accessAllowed ? 'block' : 'none';\n",
              "\n",
              "        async function convertToInteractive(key) {\n",
              "          const element = document.querySelector('#df-11a2782d-782d-4ec3-9e42-9d5100918aa0');\n",
              "          const dataTable =\n",
              "            await google.colab.kernel.invokeFunction('convertToInteractive',\n",
              "                                                     [key], {});\n",
              "          if (!dataTable) return;\n",
              "\n",
              "          const docLinkHtml = 'Like what you see? Visit the ' +\n",
              "            '<a target=\"_blank\" href=https://colab.research.google.com/notebooks/data_table.ipynb>data table notebook</a>'\n",
              "            + ' to learn more about interactive tables.';\n",
              "          element.innerHTML = '';\n",
              "          dataTable['output_type'] = 'display_data';\n",
              "          await google.colab.output.renderOutput(dataTable, element);\n",
              "          const docLink = document.createElement('div');\n",
              "          docLink.innerHTML = docLinkHtml;\n",
              "          element.appendChild(docLink);\n",
              "        }\n",
              "      </script>\n",
              "    </div>\n",
              "  </div>\n",
              "  "
            ]
          },
          "metadata": {},
          "execution_count": 9
        }
      ]
    },
    {
      "cell_type": "markdown",
      "source": [
        "value_counts() before configurations"
      ],
      "metadata": {
        "id": "dFGOoVrrq7Yi"
      }
    },
    {
      "cell_type": "code",
      "source": [
        "data2[\"sentiment\"].value_counts()"
      ],
      "metadata": {
        "colab": {
          "base_uri": "https://localhost:8080/"
        },
        "id": "x1xq5GkqrFDo",
        "outputId": "7f2772b5-9139-4cba-eb80-6fd9bdf728d7"
      },
      "execution_count": 10,
      "outputs": [
        {
          "output_type": "execute_result",
          "data": {
            "text/plain": [
              "neutral       8638\n",
              "worry         8459\n",
              "happiness     5209\n",
              "sadness       5165\n",
              "love          3842\n",
              "surprise      2187\n",
              "fun           1776\n",
              "relief        1526\n",
              "hate          1323\n",
              "empty          827\n",
              "enthusiasm     759\n",
              "boredom        179\n",
              "anger          110\n",
              "Name: sentiment, dtype: int64"
            ]
          },
          "metadata": {},
          "execution_count": 10
        }
      ]
    },
    {
      "cell_type": "markdown",
      "source": [
        "value_counts() after configurations"
      ],
      "metadata": {
        "id": "NGKG6xvcz4gD"
      }
    },
    {
      "cell_type": "code",
      "source": [
        "new_data2 = data2.copy()\n",
        "new_data2[\"sentiment\"] = data2[\"sentiment\"]\\\n",
        "    .replace([\"hate\", \"anger\"], 0)\\\n",
        "    .replace([\"worry\"], 1)\\\n",
        "    .replace([\"happiness\", \"fun\", \"relief\"], 2)\\\n",
        "    .replace([\"enthusiasm\", \"love\"], 3)\\\n",
        "    .replace([\"empty\", \"boredom\", \"sadness\"], 4)\\\n",
        "    .replace([\"surprise\"], 5)\\\n",
        "    .replace([\"neutral\"], 6)\n",
        "\n",
        "new_data2[\"sentiment\"].value_counts()"
      ],
      "metadata": {
        "colab": {
          "base_uri": "https://localhost:8080/"
        },
        "id": "nqnoguy6rJuS",
        "outputId": "a020ec05-c2b8-47cc-ba7b-266561e367a1"
      },
      "execution_count": 11,
      "outputs": [
        {
          "output_type": "execute_result",
          "data": {
            "text/plain": [
              "6    8638\n",
              "2    8511\n",
              "1    8459\n",
              "4    6171\n",
              "3    4601\n",
              "5    2187\n",
              "0    1433\n",
              "Name: sentiment, dtype: int64"
            ]
          },
          "metadata": {},
          "execution_count": 11
        }
      ]
    },
    {
      "cell_type": "markdown",
      "source": [
        "Now, we are going to concatenate the dataset, but of course we need to change the column name first."
      ],
      "metadata": {
        "id": "JxdtotRm0mtD"
      }
    },
    {
      "cell_type": "code",
      "source": [
        "print(f\"Previous column names: {list(new_data2.columns)}\")\n",
        "\n",
        "new_data2 = new_data2.rename(columns={\"sentiment\": \"label\", \"content\": \"text\"})\n",
        "\n",
        "print(f\"Updated column names: {list(new_data2.columns)}\")"
      ],
      "metadata": {
        "colab": {
          "base_uri": "https://localhost:8080/"
        },
        "id": "h4MYrZi00vb2",
        "outputId": "9fa2af11-a834-493f-da3e-3c830f8559c1"
      },
      "execution_count": 12,
      "outputs": [
        {
          "output_type": "stream",
          "name": "stdout",
          "text": [
            "Previous column names: ['sentiment', 'content']\n",
            "Updated column names: ['label', 'text']\n"
          ]
        }
      ]
    },
    {
      "cell_type": "code",
      "source": [
        "data = pd.concat([data1, new_data2], ignore_index=True)\n",
        "\n",
        "print(f\"Data shape:\\t\\t {data.shape}\\n\")\n",
        "print(data[\"label\"].value_counts())"
      ],
      "metadata": {
        "colab": {
          "base_uri": "https://localhost:8080/"
        },
        "id": "aYPBwBfR1_Hp",
        "outputId": "cc201d82-0798-4006-979d-8ea5aa1f58dd"
      },
      "execution_count": 13,
      "outputs": [
        {
          "output_type": "stream",
          "name": "stdout",
          "text": [
            "Data shape:\t\t (60000, 2)\n",
            "\n",
            "1    15220\n",
            "2    10152\n",
            "6     8638\n",
            "4     8544\n",
            "3     7310\n",
            "0     7230\n",
            "5     2906\n",
            "Name: label, dtype: int64\n"
          ]
        }
      ]
    },
    {
      "cell_type": "code",
      "source": [
        "data.head(9)"
      ],
      "metadata": {
        "colab": {
          "base_uri": "https://localhost:8080/",
          "height": 332
        },
        "id": "u0DvbP-I4jzX",
        "outputId": "ce451dfb-3cc7-4e51-e37b-df7ba42e150e"
      },
      "execution_count": 14,
      "outputs": [
        {
          "output_type": "execute_result",
          "data": {
            "text/plain": [
              "                                                text  label\n",
              "0                            i didnt feel humiliated      0\n",
              "1  i can go from feeling so hopeless to so damned...      0\n",
              "2   im grabbing a minute to post i feel greedy wrong      3\n",
              "3  i am ever feeling nostalgic about the fireplac...      2\n",
              "4                               i am feeling grouchy      3\n",
              "5  ive been feeling a little burdened lately wasn...      0\n",
              "6  ive been taking or milligrams or times recomme...      5\n",
              "7  i feel as confused about life as a teenager or...      4\n",
              "8  i have been with petronas for years i feel tha...      1"
            ],
            "text/html": [
              "\n",
              "  <div id=\"df-134f5bd6-c013-4e32-aaf4-cb7275fb9bb0\">\n",
              "    <div class=\"colab-df-container\">\n",
              "      <div>\n",
              "<style scoped>\n",
              "    .dataframe tbody tr th:only-of-type {\n",
              "        vertical-align: middle;\n",
              "    }\n",
              "\n",
              "    .dataframe tbody tr th {\n",
              "        vertical-align: top;\n",
              "    }\n",
              "\n",
              "    .dataframe thead th {\n",
              "        text-align: right;\n",
              "    }\n",
              "</style>\n",
              "<table border=\"1\" class=\"dataframe\">\n",
              "  <thead>\n",
              "    <tr style=\"text-align: right;\">\n",
              "      <th></th>\n",
              "      <th>text</th>\n",
              "      <th>label</th>\n",
              "    </tr>\n",
              "  </thead>\n",
              "  <tbody>\n",
              "    <tr>\n",
              "      <th>0</th>\n",
              "      <td>i didnt feel humiliated</td>\n",
              "      <td>0</td>\n",
              "    </tr>\n",
              "    <tr>\n",
              "      <th>1</th>\n",
              "      <td>i can go from feeling so hopeless to so damned...</td>\n",
              "      <td>0</td>\n",
              "    </tr>\n",
              "    <tr>\n",
              "      <th>2</th>\n",
              "      <td>im grabbing a minute to post i feel greedy wrong</td>\n",
              "      <td>3</td>\n",
              "    </tr>\n",
              "    <tr>\n",
              "      <th>3</th>\n",
              "      <td>i am ever feeling nostalgic about the fireplac...</td>\n",
              "      <td>2</td>\n",
              "    </tr>\n",
              "    <tr>\n",
              "      <th>4</th>\n",
              "      <td>i am feeling grouchy</td>\n",
              "      <td>3</td>\n",
              "    </tr>\n",
              "    <tr>\n",
              "      <th>5</th>\n",
              "      <td>ive been feeling a little burdened lately wasn...</td>\n",
              "      <td>0</td>\n",
              "    </tr>\n",
              "    <tr>\n",
              "      <th>6</th>\n",
              "      <td>ive been taking or milligrams or times recomme...</td>\n",
              "      <td>5</td>\n",
              "    </tr>\n",
              "    <tr>\n",
              "      <th>7</th>\n",
              "      <td>i feel as confused about life as a teenager or...</td>\n",
              "      <td>4</td>\n",
              "    </tr>\n",
              "    <tr>\n",
              "      <th>8</th>\n",
              "      <td>i have been with petronas for years i feel tha...</td>\n",
              "      <td>1</td>\n",
              "    </tr>\n",
              "  </tbody>\n",
              "</table>\n",
              "</div>\n",
              "      <button class=\"colab-df-convert\" onclick=\"convertToInteractive('df-134f5bd6-c013-4e32-aaf4-cb7275fb9bb0')\"\n",
              "              title=\"Convert this dataframe to an interactive table.\"\n",
              "              style=\"display:none;\">\n",
              "        \n",
              "  <svg xmlns=\"http://www.w3.org/2000/svg\" height=\"24px\"viewBox=\"0 0 24 24\"\n",
              "       width=\"24px\">\n",
              "    <path d=\"M0 0h24v24H0V0z\" fill=\"none\"/>\n",
              "    <path d=\"M18.56 5.44l.94 2.06.94-2.06 2.06-.94-2.06-.94-.94-2.06-.94 2.06-2.06.94zm-11 1L8.5 8.5l.94-2.06 2.06-.94-2.06-.94L8.5 2.5l-.94 2.06-2.06.94zm10 10l.94 2.06.94-2.06 2.06-.94-2.06-.94-.94-2.06-.94 2.06-2.06.94z\"/><path d=\"M17.41 7.96l-1.37-1.37c-.4-.4-.92-.59-1.43-.59-.52 0-1.04.2-1.43.59L10.3 9.45l-7.72 7.72c-.78.78-.78 2.05 0 2.83L4 21.41c.39.39.9.59 1.41.59.51 0 1.02-.2 1.41-.59l7.78-7.78 2.81-2.81c.8-.78.8-2.07 0-2.86zM5.41 20L4 18.59l7.72-7.72 1.47 1.35L5.41 20z\"/>\n",
              "  </svg>\n",
              "      </button>\n",
              "      \n",
              "  <style>\n",
              "    .colab-df-container {\n",
              "      display:flex;\n",
              "      flex-wrap:wrap;\n",
              "      gap: 12px;\n",
              "    }\n",
              "\n",
              "    .colab-df-convert {\n",
              "      background-color: #E8F0FE;\n",
              "      border: none;\n",
              "      border-radius: 50%;\n",
              "      cursor: pointer;\n",
              "      display: none;\n",
              "      fill: #1967D2;\n",
              "      height: 32px;\n",
              "      padding: 0 0 0 0;\n",
              "      width: 32px;\n",
              "    }\n",
              "\n",
              "    .colab-df-convert:hover {\n",
              "      background-color: #E2EBFA;\n",
              "      box-shadow: 0px 1px 2px rgba(60, 64, 67, 0.3), 0px 1px 3px 1px rgba(60, 64, 67, 0.15);\n",
              "      fill: #174EA6;\n",
              "    }\n",
              "\n",
              "    [theme=dark] .colab-df-convert {\n",
              "      background-color: #3B4455;\n",
              "      fill: #D2E3FC;\n",
              "    }\n",
              "\n",
              "    [theme=dark] .colab-df-convert:hover {\n",
              "      background-color: #434B5C;\n",
              "      box-shadow: 0px 1px 3px 1px rgba(0, 0, 0, 0.15);\n",
              "      filter: drop-shadow(0px 1px 2px rgba(0, 0, 0, 0.3));\n",
              "      fill: #FFFFFF;\n",
              "    }\n",
              "  </style>\n",
              "\n",
              "      <script>\n",
              "        const buttonEl =\n",
              "          document.querySelector('#df-134f5bd6-c013-4e32-aaf4-cb7275fb9bb0 button.colab-df-convert');\n",
              "        buttonEl.style.display =\n",
              "          google.colab.kernel.accessAllowed ? 'block' : 'none';\n",
              "\n",
              "        async function convertToInteractive(key) {\n",
              "          const element = document.querySelector('#df-134f5bd6-c013-4e32-aaf4-cb7275fb9bb0');\n",
              "          const dataTable =\n",
              "            await google.colab.kernel.invokeFunction('convertToInteractive',\n",
              "                                                     [key], {});\n",
              "          if (!dataTable) return;\n",
              "\n",
              "          const docLinkHtml = 'Like what you see? Visit the ' +\n",
              "            '<a target=\"_blank\" href=https://colab.research.google.com/notebooks/data_table.ipynb>data table notebook</a>'\n",
              "            + ' to learn more about interactive tables.';\n",
              "          element.innerHTML = '';\n",
              "          dataTable['output_type'] = 'display_data';\n",
              "          await google.colab.output.renderOutput(dataTable, element);\n",
              "          const docLink = document.createElement('div');\n",
              "          docLink.innerHTML = docLinkHtml;\n",
              "          element.appendChild(docLink);\n",
              "        }\n",
              "      </script>\n",
              "    </div>\n",
              "  </div>\n",
              "  "
            ]
          },
          "metadata": {},
          "execution_count": 14
        }
      ]
    },
    {
      "cell_type": "markdown",
      "source": [
        "## Split into Train and Test"
      ],
      "metadata": {
        "id": "fdC5J2V-KD5o"
      }
    },
    {
      "cell_type": "code",
      "source": [
        "from sklearn.model_selection import train_test_split\n",
        "X_train, X_test, y_train, y_test = train_test_split(data[\"text\"], data[\"label\"], test_size = 0.20, random_state = 0)\n",
        "\n",
        "print(f\"X_train shape: {X_train.shape}\")\n",
        "print(f\"X_test shape: {X_test.shape}\")\n",
        "print(f\"y_train shape: {y_train.shape}\")\n",
        "print(f\"y_test shape: {y_test.shape}\")"
      ],
      "metadata": {
        "colab": {
          "base_uri": "https://localhost:8080/"
        },
        "id": "USENIals6fFH",
        "outputId": "c2e36356-e530-4bd2-fa6e-da2ba45c4db2"
      },
      "execution_count": 15,
      "outputs": [
        {
          "output_type": "stream",
          "name": "stdout",
          "text": [
            "X_train shape: (48000,)\n",
            "X_test shape: (12000,)\n",
            "y_train shape: (48000,)\n",
            "y_test shape: (12000,)\n"
          ]
        }
      ]
    },
    {
      "cell_type": "markdown",
      "source": [
        "Before we use the dataset, we have checked before from value_counts(), that for each label the variant is pretty distant, which makes our data right now is unbalanced.\n",
        "\n",
        "Actually, there are 2 methods we can use to overcome this unbalanced data, which are undersampling (to reduce the size of the majority class) and oversampling (to increase the number of minority class). \n",
        "\n",
        "But I would rather use undersampling, since it retains the original distribution of the minority class. "
      ],
      "metadata": {
        "id": "E-__7Eak_X2i"
      }
    },
    {
      "cell_type": "code",
      "source": [
        "from imblearn.under_sampling import RandomUnderSampler\n",
        "\n",
        "# Create an undersampler\n",
        "undersampler = RandomUnderSampler(random_state=42)\n",
        "\n",
        "# Perform undersampling\n",
        "X_train_resampled, y_train_resampled = undersampler.fit_resample(X_train.to_numpy().reshape(-1, 1), y_train)\n",
        "X_test_resampled, y_test_resampled = undersampler.fit_resample(X_test.to_numpy().reshape(-1, 1), y_test)\n",
        "\n",
        "print(\"Train value_counts():\")\n",
        "print(y_train_resampled.value_counts(), \"\\n\")\n",
        "\n",
        "print(\"Test value_counts():\")\n",
        "print(y_test_resampled.value_counts())"
      ],
      "metadata": {
        "id": "Nvbq8nLD64pc",
        "colab": {
          "base_uri": "https://localhost:8080/"
        },
        "outputId": "37532d10-840e-4906-b4d1-327bfac1ab8c"
      },
      "execution_count": 16,
      "outputs": [
        {
          "output_type": "stream",
          "name": "stdout",
          "text": [
            "Train value_counts():\n",
            "0    2309\n",
            "1    2309\n",
            "2    2309\n",
            "3    2309\n",
            "4    2309\n",
            "5    2309\n",
            "6    2309\n",
            "Name: label, dtype: int64 \n",
            "\n",
            "Test value_counts():\n",
            "0    597\n",
            "1    597\n",
            "2    597\n",
            "3    597\n",
            "4    597\n",
            "5    597\n",
            "6    597\n",
            "Name: label, dtype: int64\n"
          ]
        }
      ]
    },
    {
      "cell_type": "code",
      "source": [
        "X_train_resampled, y_train_resampled = list(X_train_resampled.flatten()), list(y_train_resampled)\n",
        "X_test_resampled, y_test_resampled = list(X_test_resampled.flatten()), list(y_test_resampled)"
      ],
      "metadata": {
        "id": "p6w3CbB61seo"
      },
      "execution_count": 17,
      "outputs": []
    },
    {
      "cell_type": "markdown",
      "source": [
        "## Install/Get Pretrained Model\n",
        "\n",
        "The model that is going to be used is DistilBERT, where you can find it [here](https://huggingface.co/distilbert-base-uncased).\n",
        "\n",
        "Shortly, I choose this DistilBERT because ..."
      ],
      "metadata": {
        "id": "GVwJnWPlKRyX"
      }
    },
    {
      "cell_type": "code",
      "source": [
        "!pip install transformers\n",
        "\n",
        "import transformers\n",
        "print(transformers.__version__)"
      ],
      "metadata": {
        "colab": {
          "base_uri": "https://localhost:8080/"
        },
        "id": "La9VFY1h1EuE",
        "outputId": "42d95c73-2769-4044-ad32-c3f97a33851b"
      },
      "execution_count": 18,
      "outputs": [
        {
          "output_type": "stream",
          "name": "stdout",
          "text": [
            "Looking in indexes: https://pypi.org/simple, https://us-python.pkg.dev/colab-wheels/public/simple/\n",
            "Collecting transformers\n",
            "  Downloading transformers-4.29.2-py3-none-any.whl (7.1 MB)\n",
            "\u001b[2K     \u001b[90m━━━━━━━━━━━━━━━━━━━━━━━━━━━━━━━━━━━━━━━━\u001b[0m \u001b[32m7.1/7.1 MB\u001b[0m \u001b[31m86.3 MB/s\u001b[0m eta \u001b[36m0:00:00\u001b[0m\n",
            "\u001b[?25hRequirement already satisfied: filelock in /usr/local/lib/python3.10/dist-packages (from transformers) (3.12.0)\n",
            "Collecting huggingface-hub<1.0,>=0.14.1 (from transformers)\n",
            "  Downloading huggingface_hub-0.14.1-py3-none-any.whl (224 kB)\n",
            "\u001b[2K     \u001b[90m━━━━━━━━━━━━━━━━━━━━━━━━━━━━━━━━━━━━━━\u001b[0m \u001b[32m224.5/224.5 kB\u001b[0m \u001b[31m28.2 MB/s\u001b[0m eta \u001b[36m0:00:00\u001b[0m\n",
            "\u001b[?25hRequirement already satisfied: numpy>=1.17 in /usr/local/lib/python3.10/dist-packages (from transformers) (1.22.4)\n",
            "Requirement already satisfied: packaging>=20.0 in /usr/local/lib/python3.10/dist-packages (from transformers) (23.1)\n",
            "Requirement already satisfied: pyyaml>=5.1 in /usr/local/lib/python3.10/dist-packages (from transformers) (6.0)\n",
            "Requirement already satisfied: regex!=2019.12.17 in /usr/local/lib/python3.10/dist-packages (from transformers) (2022.10.31)\n",
            "Requirement already satisfied: requests in /usr/local/lib/python3.10/dist-packages (from transformers) (2.27.1)\n",
            "Collecting tokenizers!=0.11.3,<0.14,>=0.11.1 (from transformers)\n",
            "  Downloading tokenizers-0.13.3-cp310-cp310-manylinux_2_17_x86_64.manylinux2014_x86_64.whl (7.8 MB)\n",
            "\u001b[2K     \u001b[90m━━━━━━━━━━━━━━━━━━━━━━━━━━━━━━━━━━━━━━━━\u001b[0m \u001b[32m7.8/7.8 MB\u001b[0m \u001b[31m77.1 MB/s\u001b[0m eta \u001b[36m0:00:00\u001b[0m\n",
            "\u001b[?25hRequirement already satisfied: tqdm>=4.27 in /usr/local/lib/python3.10/dist-packages (from transformers) (4.65.0)\n",
            "Requirement already satisfied: fsspec in /usr/local/lib/python3.10/dist-packages (from huggingface-hub<1.0,>=0.14.1->transformers) (2023.4.0)\n",
            "Requirement already satisfied: typing-extensions>=3.7.4.3 in /usr/local/lib/python3.10/dist-packages (from huggingface-hub<1.0,>=0.14.1->transformers) (4.5.0)\n",
            "Requirement already satisfied: urllib3<1.27,>=1.21.1 in /usr/local/lib/python3.10/dist-packages (from requests->transformers) (1.26.15)\n",
            "Requirement already satisfied: certifi>=2017.4.17 in /usr/local/lib/python3.10/dist-packages (from requests->transformers) (2022.12.7)\n",
            "Requirement already satisfied: charset-normalizer~=2.0.0 in /usr/local/lib/python3.10/dist-packages (from requests->transformers) (2.0.12)\n",
            "Requirement already satisfied: idna<4,>=2.5 in /usr/local/lib/python3.10/dist-packages (from requests->transformers) (3.4)\n",
            "Installing collected packages: tokenizers, huggingface-hub, transformers\n",
            "Successfully installed huggingface-hub-0.14.1 tokenizers-0.13.3 transformers-4.29.2\n",
            "4.29.2\n"
          ]
        }
      ]
    },
    {
      "cell_type": "code",
      "source": [
        "from transformers import DistilBertTokenizerFast\n",
        "tokenizer = DistilBertTokenizerFast.from_pretrained('distilbert-base-uncased')"
      ],
      "metadata": {
        "id": "2_VXL7J95ZJX",
        "colab": {
          "base_uri": "https://localhost:8080/",
          "referenced_widgets": [
            "a7b0329d20ac45ffaa760ee7fdb22567",
            "5c3f1caeb86041c1a48a8112430f9f91",
            "f07e82a51b3448219fb82833fd78ffac",
            "f58ccbc456a646068a95e201564e4381",
            "3717329eeffd4b8d846834824bbe7c60",
            "114e137fd75e4fd580f5e2dfa49971e3",
            "612de2fc53f941a2aeedcf41b5f06e4e",
            "bf221784178a4be79c0436c4043e2c99",
            "41febf19b6624c1eaf04498fbf85b222",
            "88f05ee7f6bb405d8e6eaca104695418",
            "0ab4b6e79dbf4fe58c19bd7a217609fb",
            "88b6785befd541fa8a34520e04e74a0c",
            "9b0da59c1988483da48a3983a00c04ac",
            "588a6e57038e42e0b8bcea51eecd6145",
            "c591f829e60f4d0ba1e0121afe95f0a2",
            "6a30fa9eabe94d32a08f155a9200ff8a",
            "220141ee2ef5482d8cbface95ce951f7",
            "ecaa9e34ed0a4ec6a3e4a997fbb1e353",
            "a9a7ca0fa43545edb944a5363dfa0795",
            "2fa37e5894ed4725a747afaf1ee5ea69",
            "cd458717dd8744a4b875a4fc0ccf7374",
            "7460f6047dd9488d9ebb4b4569dd7cc7",
            "2e51ed6d08784ed3afd9bdb677f595cd",
            "c88ad5008d074208a20e548586f0c723",
            "cc4643836540488bb381704ada6d6ea2",
            "c5a1d69656ea4d1eb5cb741c659b7e77",
            "10b4afdc9f1241d08be8f3e775473bb4",
            "dbebe1e8de54412fa84d7e04896f481a",
            "6b5a1ababeb84f8dbd4848b286457a28",
            "df9909eae1314d18ab010193e1b178c0",
            "46b88610760b4f99bab8f4cd7fbc3a0d",
            "ca446fb2b6434eabb13a79002ccf4352",
            "97f4f2355e174acf974f384ac2231c8a",
            "72c7e32a5dac495ca277ce2b46b0db8e",
            "7a20ee1b70d2454cb7811669e5bf8d8b",
            "a7a5a5b5f2474ec3898f7315db69c50c",
            "667ade801d994524afa1bbedc548c435",
            "caa576a9a03f49638585ee912f66a882",
            "e721ea242ffe40a98232e4b044a00883",
            "46e0da2dd7ff4af0932bb1f12618b42b",
            "127785c24e174a25b67416c6dfc6754b",
            "4460ec846c0c411cb4b2ea833daadec2",
            "2501fe07fcbe4b97b276f06878d69e58",
            "15ae2b955efc46d6bf9dcf52f4c4f747"
          ],
          "height": 145
        },
        "outputId": "7b71b08a-bcc4-47e7-da3f-f692384768fd"
      },
      "execution_count": 19,
      "outputs": [
        {
          "output_type": "display_data",
          "data": {
            "text/plain": [
              "Downloading (…)okenizer_config.json:   0%|          | 0.00/28.0 [00:00<?, ?B/s]"
            ],
            "application/vnd.jupyter.widget-view+json": {
              "version_major": 2,
              "version_minor": 0,
              "model_id": "a7b0329d20ac45ffaa760ee7fdb22567"
            }
          },
          "metadata": {}
        },
        {
          "output_type": "display_data",
          "data": {
            "text/plain": [
              "Downloading (…)solve/main/vocab.txt:   0%|          | 0.00/232k [00:00<?, ?B/s]"
            ],
            "application/vnd.jupyter.widget-view+json": {
              "version_major": 2,
              "version_minor": 0,
              "model_id": "88b6785befd541fa8a34520e04e74a0c"
            }
          },
          "metadata": {}
        },
        {
          "output_type": "display_data",
          "data": {
            "text/plain": [
              "Downloading (…)/main/tokenizer.json:   0%|          | 0.00/466k [00:00<?, ?B/s]"
            ],
            "application/vnd.jupyter.widget-view+json": {
              "version_major": 2,
              "version_minor": 0,
              "model_id": "2e51ed6d08784ed3afd9bdb677f595cd"
            }
          },
          "metadata": {}
        },
        {
          "output_type": "display_data",
          "data": {
            "text/plain": [
              "Downloading (…)lve/main/config.json:   0%|          | 0.00/483 [00:00<?, ?B/s]"
            ],
            "application/vnd.jupyter.widget-view+json": {
              "version_major": 2,
              "version_minor": 0,
              "model_id": "72c7e32a5dac495ca277ce2b46b0db8e"
            }
          },
          "metadata": {}
        }
      ]
    },
    {
      "cell_type": "markdown",
      "source": [
        "## Finetune the Pretrained Model with Our Dataset"
      ],
      "metadata": {
        "id": "QHI37EUoLC-y"
      }
    },
    {
      "cell_type": "code",
      "source": [
        "train_encodings = tokenizer(X_train_resampled, truncation=True, padding=True)\n",
        "test_encodings = tokenizer(X_test_resampled, truncation=True, padding=True)"
      ],
      "metadata": {
        "id": "-K7nW8aS1QJs"
      },
      "execution_count": 20,
      "outputs": []
    },
    {
      "cell_type": "code",
      "source": [
        "import tensorflow as tf\n",
        "\n",
        "train_dataset = tf.data.Dataset.from_tensor_slices((\n",
        "    dict(train_encodings),\n",
        "    y_train_resampled\n",
        "))\n",
        "\n",
        "test_dataset = tf.data.Dataset.from_tensor_slices((\n",
        "    dict(test_encodings),\n",
        "    y_test_resampled\n",
        "))"
      ],
      "metadata": {
        "id": "MksCToEd4YRu"
      },
      "execution_count": 21,
      "outputs": []
    },
    {
      "cell_type": "code",
      "source": [
        "from transformers import TFDistilBertForSequenceClassification, TFTrainer, TFTrainingArguments\n",
        "\n",
        "training_args = TFTrainingArguments(\n",
        "    output_dir='./results',          # output directory\n",
        "    num_train_epochs=2,              # total number of training epochs\n",
        "    per_device_train_batch_size=8,  # batch size per device during training\n",
        "    per_device_eval_batch_size=16,   # batch size for evaluation\n",
        "    warmup_steps=500,                # number of warmup steps for learning rate scheduler\n",
        "    weight_decay=0.01,               # strength of weight decay\n",
        "    logging_dir='./logs',            # directory for storing logs\n",
        "    eval_steps=10,\n",
        ")"
      ],
      "metadata": {
        "id": "qdBtAU-Z7fDJ"
      },
      "execution_count": 22,
      "outputs": []
    },
    {
      "cell_type": "code",
      "source": [
        "import time\n",
        "\n",
        "start_time = time.time()\n",
        "\n",
        "with training_args.strategy.scope():\n",
        "    model = TFDistilBertForSequenceClassification.from_pretrained(\"distilbert-base-uncased\", num_labels=7)\n",
        "\n",
        "trainer = TFTrainer(\n",
        "    model=model,                         # the instantiated 🤗 Transformers model to be trained\n",
        "    args=training_args,                  # training arguments, defined above\n",
        "    train_dataset=train_dataset,         # training dataset\n",
        "    eval_dataset=test_dataset,           # evaluation dataset\n",
        ")\n",
        "\n",
        "end_time = time.time()\n",
        "print(f\"Elapsed time to instantiated: {end_time-start_time} seconds\")\n",
        "\n",
        "start_time = time.time()\n",
        "\n",
        "trainer.train()\n",
        "\n",
        "end_time = time.time()\n",
        "print(f\"Elapsed time to finetune: {end_time-start_time} seconds\")"
      ],
      "metadata": {
        "colab": {
          "base_uri": "https://localhost:8080/",
          "height": 225,
          "referenced_widgets": [
            "1651f0348a3644d48ce5086c2022224f",
            "a583e7087af24ba79e03f9947e7b4866",
            "7d0b199204f743438653ce30f3935e60",
            "60652067311b44dab46c607607942618",
            "2e2f545691754cc6ac8b02cc2f966813",
            "fb47a82555d849bd9e1f8620cb7f936c",
            "99f3a2e7ff174f0586fe1f978f3714ee",
            "a059eef091a344e794d9c7bb4c344d27",
            "0fd80e6748304901b0539d27afe724cc",
            "bf630705fd3f4749ad118ff9e2b5a00d",
            "c37e275621494df5a9f5a61e18228146"
          ]
        },
        "id": "s6EKWjT82ipB",
        "outputId": "5ad048a9-95bc-4193-c12d-4f094f2afacc"
      },
      "execution_count": 23,
      "outputs": [
        {
          "output_type": "display_data",
          "data": {
            "text/plain": [
              "Downloading tf_model.h5:   0%|          | 0.00/363M [00:00<?, ?B/s]"
            ],
            "application/vnd.jupyter.widget-view+json": {
              "version_major": 2,
              "version_minor": 0,
              "model_id": "1651f0348a3644d48ce5086c2022224f"
            }
          },
          "metadata": {}
        },
        {
          "output_type": "stream",
          "name": "stderr",
          "text": [
            "Some layers from the model checkpoint at distilbert-base-uncased were not used when initializing TFDistilBertForSequenceClassification: ['vocab_layer_norm', 'activation_13', 'vocab_transform', 'vocab_projector']\n",
            "- This IS expected if you are initializing TFDistilBertForSequenceClassification from the checkpoint of a model trained on another task or with another architecture (e.g. initializing a BertForSequenceClassification model from a BertForPreTraining model).\n",
            "- This IS NOT expected if you are initializing TFDistilBertForSequenceClassification from the checkpoint of a model that you expect to be exactly identical (initializing a BertForSequenceClassification model from a BertForSequenceClassification model).\n",
            "Some layers of TFDistilBertForSequenceClassification were not initialized from the model checkpoint at distilbert-base-uncased and are newly initialized: ['pre_classifier', 'classifier', 'dropout_19']\n",
            "You should probably TRAIN this model on a down-stream task to be able to use it for predictions and inference.\n",
            "/usr/local/lib/python3.10/dist-packages/transformers/trainer_tf.py:118: FutureWarning: The class `TFTrainer` is deprecated and will be removed in version 5 of Transformers. We recommend using native Keras instead, by calling methods like `fit()` and `predict()` directly on the model object. Detailed examples of the Keras style can be found in our examples at https://github.com/huggingface/transformers/tree/main/examples/tensorflow\n",
            "  warnings.warn(\n"
          ]
        },
        {
          "output_type": "stream",
          "name": "stdout",
          "text": [
            "Elapsed time to instantiated: 8.137639045715332 seconds\n",
            "Elapsed time to finetune: 529.7035241127014 seconds\n"
          ]
        }
      ]
    },
    {
      "cell_type": "markdown",
      "source": [
        "## Evaluate\n",
        "\n",
        "Now we have our final model, and it is the time to evaluate and try to input with some sentences. "
      ],
      "metadata": {
        "id": "jp4BLVPvLStS"
      }
    },
    {
      "cell_type": "markdown",
      "source": [
        "From the result below, we get 1. as our eval loss, which tells us that the model is pretty good."
      ],
      "metadata": {
        "id": "S29G5N00Vj_5"
      }
    },
    {
      "cell_type": "code",
      "source": [
        "start_time = time.time()\n",
        "\n",
        "print(trainer.evaluate(test_dataset))\n",
        "\n",
        "end_time = time.time()\n",
        "print(f\"Elapsed time to evaluate: {end_time-start_time} seconds\")"
      ],
      "metadata": {
        "id": "GLgdzaBg24wM",
        "colab": {
          "base_uri": "https://localhost:8080/"
        },
        "outputId": "f60e42fd-e9c3-404c-8cd8-3d7d581fa462"
      },
      "execution_count": 35,
      "outputs": [
        {
          "output_type": "stream",
          "name": "stdout",
          "text": [
            "{'eval_loss': 1.187558356132216}\n",
            "Elapsed time to evaluate: 20.54791283607483 seconds\n"
          ]
        }
      ]
    },
    {
      "cell_type": "markdown",
      "source": [
        "If we test the model with our test_dataset, it results 1.18 as the eval_loss."
      ],
      "metadata": {
        "id": "rbbjyHw3VhCr"
      }
    },
    {
      "cell_type": "code",
      "source": [
        "start_time = time.time()\n",
        "\n",
        "print(trainer.predict(test_dataset))\n",
        "\n",
        "end_time = time.time()\n",
        "print(f\"Elapsed time to predict: {end_time-start_time} seconds\")"
      ],
      "metadata": {
        "id": "LGBXyCaR28GF",
        "colab": {
          "base_uri": "https://localhost:8080/"
        },
        "outputId": "23220be6-01bc-45dd-ec4c-5286fd3218ea"
      },
      "execution_count": 36,
      "outputs": [
        {
          "output_type": "stream",
          "name": "stdout",
          "text": [
            "PredictionOutput(predictions=array([[ 6.0187836 , -0.37147436, -1.7852987 , ..., -0.15760252,\n",
            "        -1.9130595 , -3.007426  ],\n",
            "       [ 5.9017463 , -0.05276119, -1.2468693 , ..., -0.724301  ,\n",
            "        -2.0450115 , -3.0926142 ],\n",
            "       [ 6.1353617 , -0.6003872 , -1.7128254 , ..., -0.68330324,\n",
            "        -2.3361878 , -3.1043491 ],\n",
            "       ...,\n",
            "       [-2.3351448 , -0.85917205,  1.313197  , ..., -0.13477433,\n",
            "         0.50108933,  1.279402  ],\n",
            "       [-1.3858484 , -0.76941574,  1.7462626 , ..., -0.8707756 ,\n",
            "         0.70469   ,  0.22384073],\n",
            "       [-2.2496705 ,  1.4597071 , -0.09453072, ...,  0.2934363 ,\n",
            "         0.03188933,  1.4468437 ]], dtype=float32), label_ids=array([0, 0, 0, ..., 6, 6, 6], dtype=int32), metrics={'eval_loss': 1.192080898139313})\n",
            "Elapsed time to predict: 13.79526662826538 seconds\n"
          ]
        }
      ]
    },
    {
      "cell_type": "markdown",
      "source": [
        "Now, we are going to input some sentences to our model, and see if it predicts correctly or not."
      ],
      "metadata": {
        "id": "Js8_EPNsWC1J"
      }
    },
    {
      "cell_type": "code",
      "source": [
        "import random\n",
        "\n",
        "new_data = [\n",
        "    \"love you\",\n",
        "    \"Spent the evening exploring a new neighborhood, discovering hidden gems and unique shops.\", \n",
        "    \"i hate that man so bad\", \n",
        "    \"Visited a local farmers market and indulged in fresh produce and homemade goodies. \",\n",
        "    \"I don't know what to do right now\", \n",
        "    \"Attended an art exhibition today and was captivated by the creativity and talent on display.\",\n",
        "    \"i am so bored right now!\",\n",
        "    \"Caught up with an old friend over lunch today. It's always nice to reconnect and share stories\",\n",
        "    \"Knowledge of God's Word is a great antidote to idolatry\",\n",
        "    \"God preordained, for his own glory and the display of His attributes of mercy and justice, a part of the human race, without any merit of their own, to eternal salvation, and another part, in just punishment of their sin, to eternal damnation.\",\n",
        "    \"I honor Jesus\",\n",
        "    \"Our hearts are restless until they find their rest in God.\", \n",
        "    \"Just got the most amazing surprise from my friends! I'm still in shock and can't stop smiling. Feeling incredibly grateful right now.\",\n",
        "    \"When your favorite band announces a surprise album drop and you're not mentally prepared for the eargasm you're about to experience. 🎵🔥\",\n",
        "    \"Just witnessed the most amazing sunset while strolling on the beach. Mother Nature never fails to surprise and awe me. 🌅😍\",\n",
        "    \"Just got a promotion at work! I wasn't expecting it at all, and now I'm on cloud nine. Hard work pays off, and surprises make it even sweeter. 🎉💼 #careeradvancement #grateful\",\n",
        "    \"Can't believe my friends pulled off the ultimate surprise party for me! They totally got me good. Feeling loved and grateful. ❤️🥳 #bestfriends #surpriseparty\",\n",
        "    \"Just watched a horror movie alone in the dark. Now every little sound in my house has me on edge. 😱\",\n",
        "    \"Thought I saw a figure standing in the mirror behind me when I turned off the lights. Not sure I'll be sleeping well tonight. 😱 #mirrorfears #paranoia\",\n",
        "    \"Taking a walk in the park and enjoying the beautiful weather. Nature has a way of bringing calm and tranquility. #outdoortherapy #naturewalk\",\n",
        "    \"To know God's purpose for us, we must be acquainted with His Word.\",\n",
        "    \"The human heart is a factory of idols.\"\n",
        "]\n",
        "\n",
        "# create a dummy label column\n",
        "y_train_dummy = [random.randint(0, 7) for i in range(len(new_data))]\n",
        "print(y_train_dummy, \"\\n\")\n",
        "\n",
        "new_data_encodings = tokenizer(new_data, truncation=True, padding=True)\n",
        "new_data_tensor = tf.data.Dataset.from_tensor_slices((\n",
        "    dict(new_data_encodings),\n",
        "    y_train_dummy\n",
        "))\n",
        "predictions = trainer.predict(new_data_tensor)\n",
        "print(predictions)"
      ],
      "metadata": {
        "id": "RJ0GTa0Lh8na",
        "colab": {
          "base_uri": "https://localhost:8080/"
        },
        "outputId": "83defdb5-2ffb-4595-d438-5e2e210b6ecc"
      },
      "execution_count": 111,
      "outputs": [
        {
          "output_type": "stream",
          "name": "stdout",
          "text": [
            "[6, 0, 2, 6, 0, 6, 4, 7, 4, 6, 7, 2, 3, 4, 3, 0, 0, 5, 0, 0, 7, 2] \n",
            "\n",
            "PredictionOutput(predictions=array([[-1.3593085 , -0.34572324, -0.23599069,  3.3544414 ,  0.14567883,\n",
            "        -0.03964495, -1.3139923 ],\n",
            "       [-2.990524  , -0.49826095,  2.6572907 ,  0.65759295, -1.0258245 ,\n",
            "         0.61485183,  0.45214778],\n",
            "       [ 3.1735146 ,  0.23068732, -2.5453503 , -0.45927492,  1.2206827 ,\n",
            "        -1.2267896 , -1.6585865 ],\n",
            "       [-2.0790038 , -0.17262484,  0.9796052 ,  0.0552711 ,  0.53632915,\n",
            "        -0.58838654,  1.259444  ],\n",
            "       [-1.2653323 ,  2.475512  , -1.5856332 , -1.3685074 ,  1.100146  ,\n",
            "        -0.41641656,  0.36778778],\n",
            "       [-2.8989956 , -0.2959767 ,  0.41437384, -0.14811608, -0.71310055,\n",
            "         3.7053812 , -0.44438475],\n",
            "       [ 0.93066806,  0.51144147, -2.2258465 , -1.3400166 ,  2.7208338 ,\n",
            "         0.04363485, -1.3046426 ],\n",
            "       [-2.7211478 , -0.31621185,  2.0790792 ,  1.0823683 , -0.07675532,\n",
            "         0.26302513, -0.16932417],\n",
            "       [-1.3484821 ,  0.94806945,  0.86371267, -0.48213154, -0.49019268,\n",
            "         0.35541257, -0.11346351],\n",
            "       [-0.96168804,  0.99065804, -0.12528117, -0.8306081 ,  0.13089748,\n",
            "         0.23755224,  0.02437541],\n",
            "       [-2.4475749 ,  0.50330967,  1.374024  ,  1.2468258 , -0.8592518 ,\n",
            "         0.06471385,  0.47404033],\n",
            "       [-1.6722634 ,  1.4854051 , -1.2963208 , -1.0164111 ,  2.4143372 ,\n",
            "        -0.36661583, -0.10211305],\n",
            "       [-3.4050152 , -0.29080638,  2.4001558 ,  1.6289376 , -1.3435004 ,\n",
            "         2.0939178 , -1.0286564 ],\n",
            "       [-2.779542  ,  0.07624267,  1.0497668 , -0.03841322, -0.12589854,\n",
            "         2.0091066 , -0.3157302 ],\n",
            "       [-3.0334506 , -0.4337206 ,  1.7078834 ,  0.87874204, -1.2979423 ,\n",
            "         2.800543  , -0.7026946 ],\n",
            "       [-2.676494  , -0.2422912 ,  2.0386891 ,  1.0255126 , -0.44070762,\n",
            "         0.7653508 , -0.47597724],\n",
            "       [-3.1705449 , -0.3942649 ,  1.4496368 ,  2.5513465 , -0.7254862 ,\n",
            "         1.6566714 , -1.0689313 ],\n",
            "       [-0.59513456,  0.32006738, -0.9352525 , -1.2858318 ,  1.5039731 ,\n",
            "         0.75655186, -0.3201607 ],\n",
            "       [-1.3981841 ,  1.6817999 , -1.1810018 , -1.5453202 ,  1.1577089 ,\n",
            "         0.3468551 ,  0.38673374],\n",
            "       [-2.660229  , -0.22806655,  2.435006  ,  1.242475  , -0.7904922 ,\n",
            "        -0.03480577,  0.24112314],\n",
            "       [-1.9963274 ,  0.648466  ,  0.29527697, -0.23643957, -0.58311486,\n",
            "         0.52586967,  1.0151445 ],\n",
            "       [-0.8346898 ,  0.24166924, -0.7503088 , -0.6477987 ,  0.21701781,\n",
            "         0.8494117 ,  0.36499438]], dtype=float32), label_ids=array([6, 0, 2, 6, 0, 6, 4, 7, 4, 6, 7, 2, 3, 4, 3, 0, 0, 5, 0, 0, 7, 2],\n",
            "      dtype=int32), metrics={'eval_loss': nan})\n"
          ]
        }
      ]
    },
    {
      "cell_type": "code",
      "source": [
        "print(predictions[0].shape, \"\\n\")\n",
        "print(predictions)"
      ],
      "metadata": {
        "id": "1iNsmUdDXsCc",
        "colab": {
          "base_uri": "https://localhost:8080/"
        },
        "outputId": "dd3293f3-f6c9-48d4-d886-f7ad004001aa"
      },
      "execution_count": 112,
      "outputs": [
        {
          "output_type": "stream",
          "name": "stdout",
          "text": [
            "(22, 7) \n",
            "\n",
            "PredictionOutput(predictions=array([[-1.3593085 , -0.34572324, -0.23599069,  3.3544414 ,  0.14567883,\n",
            "        -0.03964495, -1.3139923 ],\n",
            "       [-2.990524  , -0.49826095,  2.6572907 ,  0.65759295, -1.0258245 ,\n",
            "         0.61485183,  0.45214778],\n",
            "       [ 3.1735146 ,  0.23068732, -2.5453503 , -0.45927492,  1.2206827 ,\n",
            "        -1.2267896 , -1.6585865 ],\n",
            "       [-2.0790038 , -0.17262484,  0.9796052 ,  0.0552711 ,  0.53632915,\n",
            "        -0.58838654,  1.259444  ],\n",
            "       [-1.2653323 ,  2.475512  , -1.5856332 , -1.3685074 ,  1.100146  ,\n",
            "        -0.41641656,  0.36778778],\n",
            "       [-2.8989956 , -0.2959767 ,  0.41437384, -0.14811608, -0.71310055,\n",
            "         3.7053812 , -0.44438475],\n",
            "       [ 0.93066806,  0.51144147, -2.2258465 , -1.3400166 ,  2.7208338 ,\n",
            "         0.04363485, -1.3046426 ],\n",
            "       [-2.7211478 , -0.31621185,  2.0790792 ,  1.0823683 , -0.07675532,\n",
            "         0.26302513, -0.16932417],\n",
            "       [-1.3484821 ,  0.94806945,  0.86371267, -0.48213154, -0.49019268,\n",
            "         0.35541257, -0.11346351],\n",
            "       [-0.96168804,  0.99065804, -0.12528117, -0.8306081 ,  0.13089748,\n",
            "         0.23755224,  0.02437541],\n",
            "       [-2.4475749 ,  0.50330967,  1.374024  ,  1.2468258 , -0.8592518 ,\n",
            "         0.06471385,  0.47404033],\n",
            "       [-1.6722634 ,  1.4854051 , -1.2963208 , -1.0164111 ,  2.4143372 ,\n",
            "        -0.36661583, -0.10211305],\n",
            "       [-3.4050152 , -0.29080638,  2.4001558 ,  1.6289376 , -1.3435004 ,\n",
            "         2.0939178 , -1.0286564 ],\n",
            "       [-2.779542  ,  0.07624267,  1.0497668 , -0.03841322, -0.12589854,\n",
            "         2.0091066 , -0.3157302 ],\n",
            "       [-3.0334506 , -0.4337206 ,  1.7078834 ,  0.87874204, -1.2979423 ,\n",
            "         2.800543  , -0.7026946 ],\n",
            "       [-2.676494  , -0.2422912 ,  2.0386891 ,  1.0255126 , -0.44070762,\n",
            "         0.7653508 , -0.47597724],\n",
            "       [-3.1705449 , -0.3942649 ,  1.4496368 ,  2.5513465 , -0.7254862 ,\n",
            "         1.6566714 , -1.0689313 ],\n",
            "       [-0.59513456,  0.32006738, -0.9352525 , -1.2858318 ,  1.5039731 ,\n",
            "         0.75655186, -0.3201607 ],\n",
            "       [-1.3981841 ,  1.6817999 , -1.1810018 , -1.5453202 ,  1.1577089 ,\n",
            "         0.3468551 ,  0.38673374],\n",
            "       [-2.660229  , -0.22806655,  2.435006  ,  1.242475  , -0.7904922 ,\n",
            "        -0.03480577,  0.24112314],\n",
            "       [-1.9963274 ,  0.648466  ,  0.29527697, -0.23643957, -0.58311486,\n",
            "         0.52586967,  1.0151445 ],\n",
            "       [-0.8346898 ,  0.24166924, -0.7503088 , -0.6477987 ,  0.21701781,\n",
            "         0.8494117 ,  0.36499438]], dtype=float32), label_ids=array([6, 0, 2, 6, 0, 6, 4, 7, 4, 6, 7, 2, 3, 4, 3, 0, 0, 5, 0, 0, 7, 2],\n",
            "      dtype=int32), metrics={'eval_loss': nan})\n"
          ]
        }
      ]
    },
    {
      "cell_type": "code",
      "source": [
        "# Define the emotion labels\n",
        "emotion_labels = ['anger', 'fear', 'joy', 'love', 'sadness', 'surprise', \"neutral\"]\n",
        "\n",
        "# Convert logits to probabilities and get the predicted label\n",
        "probs = tf.nn.softmax(predictions[0], axis=-1)\n",
        "predicted_label = tf.argmax(probs, axis=-1).numpy()\n",
        "print(f\"Predicted labels:\\n{predicted_label}\\n\")\n",
        "\n",
        "for i in range(len(probs)):\n",
        "    print(f\"[{emotion_labels[predicted_label[i]]}] >> '{new_data[i]}'\")"
      ],
      "metadata": {
        "id": "zd26FwhKY3FS",
        "colab": {
          "base_uri": "https://localhost:8080/"
        },
        "outputId": "386ea724-837b-4d31-a860-22528a28fbfb"
      },
      "execution_count": 113,
      "outputs": [
        {
          "output_type": "stream",
          "name": "stdout",
          "text": [
            "Predicted labels:\n",
            "[3 2 0 6 1 5 4 2 1 1 2 4 2 5 5 2 3 4 1 2 6 5]\n",
            "\n",
            "[love] >> 'love you'\n",
            "[joy] >> 'Spent the evening exploring a new neighborhood, discovering hidden gems and unique shops.'\n",
            "[anger] >> 'i hate that man so bad'\n",
            "[neutral] >> 'Visited a local farmers market and indulged in fresh produce and homemade goodies. '\n",
            "[fear] >> 'I don't know what to do right now'\n",
            "[surprise] >> 'Attended an art exhibition today and was captivated by the creativity and talent on display.'\n",
            "[sadness] >> 'i am so bored right now!'\n",
            "[joy] >> 'Caught up with an old friend over lunch today. It's always nice to reconnect and share stories'\n",
            "[fear] >> 'Knowledge of God's Word is a great antidote to idolatry'\n",
            "[fear] >> 'God preordained, for his own glory and the display of His attributes of mercy and justice, a part of the human race, without any merit of their own, to eternal salvation, and another part, in just punishment of their sin, to eternal damnation.'\n",
            "[joy] >> 'I honor Jesus'\n",
            "[sadness] >> 'Our hearts are restless until they find their rest in God.'\n",
            "[joy] >> 'Just got the most amazing surprise from my friends! I'm still in shock and can't stop smiling. Feeling incredibly grateful right now.'\n",
            "[surprise] >> 'When your favorite band announces a surprise album drop and you're not mentally prepared for the eargasm you're about to experience. 🎵🔥'\n",
            "[surprise] >> 'Just witnessed the most amazing sunset while strolling on the beach. Mother Nature never fails to surprise and awe me. 🌅😍'\n",
            "[joy] >> 'Just got a promotion at work! I wasn't expecting it at all, and now I'm on cloud nine. Hard work pays off, and surprises make it even sweeter. 🎉💼 #careeradvancement #grateful'\n",
            "[love] >> 'Can't believe my friends pulled off the ultimate surprise party for me! They totally got me good. Feeling loved and grateful. ❤️🥳 #bestfriends #surpriseparty'\n",
            "[sadness] >> 'Just watched a horror movie alone in the dark. Now every little sound in my house has me on edge. 😱'\n",
            "[fear] >> 'Thought I saw a figure standing in the mirror behind me when I turned off the lights. Not sure I'll be sleeping well tonight. 😱 #mirrorfears #paranoia'\n",
            "[joy] >> 'Taking a walk in the park and enjoying the beautiful weather. Nature has a way of bringing calm and tranquility. #outdoortherapy #naturewalk'\n",
            "[neutral] >> 'To know God's purpose for us, we must be acquainted with His Word.'\n",
            "[surprise] >> 'The human heart is a factory of idols.'\n"
          ]
        }
      ]
    },
    {
      "cell_type": "code",
      "source": [
        "# 'anger', 'fear', 'joy', 'love', 'sadness', 'surprise'\n",
        "probs[1]"
      ],
      "metadata": {
        "id": "VC72qt6bYHQ8",
        "colab": {
          "base_uri": "https://localhost:8080/"
        },
        "outputId": "bacdb3ab-b1f1-4f21-c1b6-4e595cc1250e"
      },
      "execution_count": 47,
      "outputs": [
        {
          "output_type": "execute_result",
          "data": {
            "text/plain": [
              "<tf.Tensor: shape=(7,), dtype=float32, numpy=\n",
              "array([0.80349857, 0.0423576 , 0.00263824, 0.02124636, 0.11399365,\n",
              "       0.00986182, 0.00640369], dtype=float32)>"
            ]
          },
          "metadata": {},
          "execution_count": 47
        }
      ]
    },
    {
      "cell_type": "markdown",
      "source": [
        "## Save Our New Model"
      ],
      "metadata": {
        "id": "iEuBHPVYLXDQ"
      }
    },
    {
      "cell_type": "code",
      "source": [
        "trainer.save_model('mclass_model_distilbert')"
      ],
      "metadata": {
        "id": "yzNa2XKQOL9P"
      },
      "execution_count": 30,
      "outputs": []
    },
    {
      "cell_type": "markdown",
      "source": [
        "## Load Our Model"
      ],
      "metadata": {
        "id": "1fuxZNgmLbVn"
      }
    },
    {
      "cell_type": "code",
      "source": [
        "model = TFDistilBertForSequenceClassification.from_pretrained(\"mclass_model_distilbert\")\n",
        "tokenizer = DistilBertTokenizerFast.from_pretrained('distilbert-base-uncased')"
      ],
      "metadata": {
        "id": "oWZxVkR7L9T9",
        "colab": {
          "base_uri": "https://localhost:8080/"
        },
        "outputId": "523dda34-53ae-4539-e200-da7eb4c0c6c2"
      },
      "execution_count": 32,
      "outputs": [
        {
          "output_type": "stream",
          "name": "stderr",
          "text": [
            "Some layers from the model checkpoint at mclass_model_distilbert were not used when initializing TFDistilBertForSequenceClassification: ['dropout_19']\n",
            "- This IS expected if you are initializing TFDistilBertForSequenceClassification from the checkpoint of a model trained on another task or with another architecture (e.g. initializing a BertForSequenceClassification model from a BertForPreTraining model).\n",
            "- This IS NOT expected if you are initializing TFDistilBertForSequenceClassification from the checkpoint of a model that you expect to be exactly identical (initializing a BertForSequenceClassification model from a BertForSequenceClassification model).\n",
            "Some layers of TFDistilBertForSequenceClassification were not initialized from the model checkpoint at mclass_model_distilbert and are newly initialized: ['dropout_39']\n",
            "You should probably TRAIN this model on a down-stream task to be able to use it for predictions and inference.\n"
          ]
        }
      ]
    },
    {
      "cell_type": "code",
      "source": [
        "# create a dummy label column\n",
        "y_train_dummy = [3, 1, 4, 1]\n",
        "\n",
        "new_data = [\"love you\", \"i hate that man so bad\", \"I don't know what to do right now\", \"i am so bored right now!\"]\n",
        "new_data_encodings = tokenizer(new_data, truncation=True, padding=True)\n",
        "new_data_tensor = tf.data.Dataset.from_tensor_slices((\n",
        "    dict(new_data_encodings),\n",
        "    y_train_dummy\n",
        "))\n",
        "predictions = model.predict(new_data_tensor)\n",
        "predictions"
      ],
      "metadata": {
        "colab": {
          "base_uri": "https://localhost:8080/"
        },
        "id": "UK5ZGiNZVk7h",
        "outputId": "0193764b-43b6-4ae5-e04a-5cd3df73f977"
      },
      "execution_count": 33,
      "outputs": [
        {
          "output_type": "stream",
          "name": "stdout",
          "text": [
            "4/4 [==============================] - 2s 8ms/step\n"
          ]
        },
        {
          "output_type": "execute_result",
          "data": {
            "text/plain": [
              "TFSequenceClassifierOutput(loss=None, logits=array([[-1.3593097 , -0.3457232 , -0.2359908 ,  3.3544421 ,  0.14567849,\n",
              "        -0.03964442, -1.3139918 ],\n",
              "       [ 3.1735144 ,  0.2306873 , -2.54535   , -0.45927522,  1.2206829 ,\n",
              "        -1.2267894 , -1.6585863 ],\n",
              "       [-1.2653328 ,  2.4755108 , -1.5856324 , -1.3685071 ,  1.1001453 ,\n",
              "        -0.4164165 ,  0.36778894],\n",
              "       [ 0.9306681 ,  0.5114414 , -2.225846  , -1.3400164 ,  2.7208333 ,\n",
              "         0.04363425, -1.3046423 ]], dtype=float32), hidden_states=None, attentions=None)"
            ]
          },
          "metadata": {},
          "execution_count": 33
        }
      ]
    },
    {
      "cell_type": "code",
      "source": [
        "# Define the emotion labels\n",
        "emotion_labels = ['anger', 'fear', 'joy', 'love', 'sadness', 'surprise']\n",
        "\n",
        "# Convert logits to probabilities and get the predicted label\n",
        "probs = tf.nn.softmax(predictions[0], axis=-1)\n",
        "\n",
        "for i in range(len(probs)):\n",
        "    predicted_label = tf.argmax(probs, axis=-1).numpy()[i]\n",
        "    print(f\"The predicted label for the sentence '{new_data[i]}' is {emotion_labels[predicted_label]}.\")"
      ],
      "metadata": {
        "colab": {
          "base_uri": "https://localhost:8080/"
        },
        "id": "1hcPw_txVs8r",
        "outputId": "56d61823-e3d9-4d94-fcbf-1fa1be4649a9"
      },
      "execution_count": 34,
      "outputs": [
        {
          "output_type": "stream",
          "name": "stdout",
          "text": [
            "The predicted label for the sentence 'love you' is love.\n",
            "The predicted label for the sentence 'i hate that man so bad' is anger.\n",
            "The predicted label for the sentence 'I don't know what to do right now' is fear.\n",
            "The predicted label for the sentence 'i am so bored right now!' is sadness.\n"
          ]
        }
      ]
    }
  ]
}